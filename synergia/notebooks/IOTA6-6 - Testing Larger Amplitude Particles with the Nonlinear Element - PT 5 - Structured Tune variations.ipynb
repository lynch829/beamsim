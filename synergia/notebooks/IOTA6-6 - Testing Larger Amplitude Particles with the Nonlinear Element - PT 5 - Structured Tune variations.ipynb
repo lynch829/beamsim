{
 "cells": [
  {
   "cell_type": "markdown",
   "metadata": {},
   "source": [
    "#IOTA6-6 - Testing Larger Amplitude Particles with the Nonlinear Element - PT 5 - Structured Tune variations\n",
    "\n",
    "This is part 5 of the ongoing investigation into the preservation of the invariants through the nonlinear element in Synergia. See [Part 1 - Comparing Full Chef to Linear Dynamics](IOTA6-6 - Testing Larger Amplitude Particles with the Nonlinear Element - PT1 - Comparing Full chef to linear dynamics.ipynb) for a look at how the nonlinear aspects of \"linear\" lattice elements may affect the invariant. See [Part 2 -  Slicing the Nonlinear Magnet in MADX](IOTA6-6 - Testing Larger Amplitude Particles with the Nonlinear Element - PT 2 - Increasing the magnet slices.ipynb) for a look at how further refinement/slicing of the nonlinear magnet can influence the particle motion. See [Part 3 - Changing the Tune](IOTA6-6 - Testing Larger Amplitude Particles with the Nonlinear Element - PT 3 - Changing the tune through the NLL magnet.ipynb) to see how increasing the tune through the NLL element increases the spread in the invariant for a test particle. See [Part 4 - Increased tune through the NL magnet with larger bunches](IOTA6-6 - Testing Larger Amplitude Particles with the Nonlinear Element - PT 4 - Full Matched Bunches with Larger Tune) to see the verfication of an increase in spread in the invariant with a full matched bunch.\n",
    "\n",
    "The testing in part 1 showed a strong reduction in the number of outliers from our bunch (those particles with extremely large deviations from the mean invariant over the 100 turns). The result was a significant reduction in the standard deviation of the 2nd invariant - from ~16% down to 3% - and an additional reduction in the Hamiltonian (1st invariant) - from 3.1% down to 2.4%. \n",
    "\n",
    "The testing in part 2 made clear that the nonlinear potential is well described using 20 total slices. Increasing the number of slices to 40 made very little difference in the statistical spread of the single particle invariants, as the mean values remained the same, and standard deviations of 2.4% in H and 3.1% in I remained.\n",
    "\n",
    "The basis for the testing in part 3 was the notion that the nonlinear Hamiltonian specified by the IOTA lattice is not fully integrable, and that higher order terms from the complete transfer map through the potential have $O(\\nu^3)$ dependence on the tune through the NLL magnets. I constructed a new NLL magnet section with 2x the tune ($\\nu = 0.6$) and derived an R-matrix to complete the new toy lattice. Basic simulations with a single particle showed an increase in the standard deviations, to 8.4% in H, and 11.6% in I.\n",
    "\n",
    "Part 4 extended the testing in part 3 to simulate an entire bunch with generalized emittance $10^{-5}$. A similarly large spread in the Hamiltonian was seen (10.6%) while the 2nd invariant behaved very poorly, with a mean spread of ~50%.\n",
    "\n",
    "\n",
    "####Execution\n",
    "**For this notebook, we will consider a series of NL elements with a range of phase advances between 0.1 and 0.9** I will construct these elements using madx and subsequently calculate an R-matrix and the appropriate twiss functions for the entrance and exit of the drift.\n",
    "\n",
    "I will aim to scale the length of each element according to the total phase advance. For each element, I will simulate three individual particles with single particle emittance values differing by an order of magnitude:  I will run with for ~100 turns.\n",
    "\n",
    "The figure of merit will be still be the quantity $\\sigma H/H_0$, where $H_0$ is the mean value of the Hamiltonian for each test particle. I will take a look at the 2nd invariant as well, but this is less important for this particular exercise."
   ]
  },
  {
   "cell_type": "code",
   "execution_count": 127,
   "metadata": {
    "collapsed": false
   },
   "outputs": [
    {
     "name": "stdout",
     "output_type": "stream",
     "text": [
      "The watermark extension is already loaded. To reload it, use:\n",
      "  %reload_ext watermark\n",
      "The autoreload extension is already loaded. To reload it, use:\n",
      "  %reload_ext autoreload\n"
     ]
    }
   ],
   "source": [
    "%load_ext watermark\n",
    "%load_ext autoreload\n",
    "%autoreload 2"
   ]
  },
  {
   "cell_type": "code",
   "execution_count": 2,
   "metadata": {
    "collapsed": false
   },
   "outputs": [
    {
     "name": "stdout",
     "output_type": "stream",
     "text": [
      "Nathan Cook 18/08/2015 \n",
      "\n",
      "CPython 2.7.10\n",
      "IPython 3.1.0\n"
     ]
    }
   ],
   "source": [
    "%watermark -d -v -a \"Nathan Cook\""
   ]
  },
  {
   "cell_type": "code",
   "execution_count": 2,
   "metadata": {
    "collapsed": true
   },
   "outputs": [],
   "source": [
    "import sys, os\n",
    "import synergia\n",
    "from mpi4py import MPI\n",
    "import synergia_workflow\n",
    "\n",
    "import numpy as np\n",
    "%matplotlib inline\n",
    "import matplotlib.pyplot as plt\n",
    "from base_diagnostics import read_bunch\n",
    "from base_diagnostics import workflow\n",
    "from elliptic import EllipticBeam6D\n",
    "from base_diagnostics import lfplot"
   ]
  },
  {
   "cell_type": "code",
   "execution_count": 3,
   "metadata": {
    "collapsed": false
   },
   "outputs": [],
   "source": [
    "lattice = synergia.lattice.MadX_reader().get_lattice(\"base\", \"/Users/ncook/Synergia_Tests/lattices/6-6_nll_toy/nll_40slices_0pt1_tune.madx\")\n",
    "#lattice2 = synergia.lattice.MadX_reader().get_lattice(\"iota\", \"/Users/ncook/Synergia_Tests/lattices/Iota6-6/lattice_1IO_center.madx\")\n",
    "\n",
    "\n",
    "for elem in lattice.get_elements():\n",
    "    if elem.get_type() == 'nllens':\n",
    "        elem.set_string_attribute(\"extractor_type\", \"chef_propagate\")\n",
    "\n",
    "nsteps_per_element = 10\n",
    "nsteps = len(lattice.get_elements())*nsteps_per_element\n",
    "        \n",
    "name = 'Tune_Test'\n",
    "order = 1\n",
    "tune = 0.1\n",
    "outputdir = name + '_' + str(tune)\n",
    "\n",
    "opts = workflow.make_opts(name, order, outputdir, nsteps, nsteps_per_element)\n",
    "opts.macro_particles=3\n",
    "#opts.emitx = 1.0e-5\n",
    "workflow.make_path(outputdir)\n",
    "\n",
    "\n",
    "stepper = synergia.simulation.Independent_stepper_elements(lattice, opts.map_order, opts.steps_per_element)\n",
    "lattice_simulator = stepper.get_lattice_simulator()\n",
    "\n",
    "#stepper2 = synergia.simulation.Independent_stepper_elements(lattice2, opts.map_order, opts.steps_per_element)\n",
    "#lattice_simulator2 = stepper2.get_lattice_simulator()"
   ]
  },
  {
   "cell_type": "markdown",
   "metadata": {},
   "source": [
    "Now I need to construct a loop which goes through each of the files and constructs R-matrices for each? Then I can run the simulation such that it goes through all 9 one at a time, outputs diagnostics, and calculates shit. The goal would be to have all of the data in one table to be accessible through python?"
   ]
  },
  {
   "cell_type": "markdown",
   "metadata": {},
   "source": [
    "I also need to adapt my scripts to construct three particles at 3 distinct generalized emittances, such that they are the same particles every time. I can do this by specifiying a seed for Stephen's script, or by writing my own thing. I should probably write my own so that I understand it properly."
   ]
  },
  {
   "cell_type": "code",
   "execution_count": 3,
   "metadata": {
    "collapsed": true
   },
   "outputs": [],
   "source": [
    "def get_lattice_files(relpath):\n",
    "    lfiles = []\n",
    "    files = os.listdir(relpath)\n",
    "    \n",
    "    for filename in files:\n",
    "        if filename.find('nll_40slices') > -1 and filename.endswith('.madx'):\n",
    "            lfiles.append(filename)\n",
    "    return lfiles\n",
    "    "
   ]
  },
  {
   "cell_type": "code",
   "execution_count": 4,
   "metadata": {
    "collapsed": false
   },
   "outputs": [],
   "source": [
    "def get_base_nll(nn, l0, mu0, t, c):\n",
    "    '''Construct the nonlinear element. Taken from madx script by A. Valishev. \n",
    "    Verified by David's python script for pyOrbit.\n",
    "    \n",
    "    '''\n",
    "    #musect=mu0+0.5;\n",
    "    f0=l0/4.0*(1.0+1.0/np.tan(np.pi*mu0)**2); #focal length\n",
    "    betae=l0/np.sqrt(1.0-(1.0-l0/2.0/f0)**2); #entrance beta function\n",
    "    alphae=l0/2.0/f0/np.sqrt(1.0-(1.0-l0/2.0/f0)**2); #entrance alpha function\n",
    "    betas=l0*(1-l0/4.0/f0)/np.sqrt(1.0-(1.0-l0/2.0/f0)**2); #middle beta function\n",
    "    #value,f0,betae,alfae,betas;\n",
    "    \n",
    "    return [f0, betae,alphae,betas]"
   ]
  },
  {
   "cell_type": "code",
   "execution_count": 5,
   "metadata": {
    "collapsed": true
   },
   "outputs": [],
   "source": [
    "class Pickle_helper:\n",
    "    __getstate_manages_dict__ = 1\n",
    "    def __init__(self, *args):\n",
    "        self.args = args\n",
    "    def __getinitargs__(self):\n",
    "        return self.args\n",
    "    def __getstate__(self):\n",
    "        return self.__dict__\n",
    "    def __setstate__(self, state):\n",
    "        self.__dict__ = state\n",
    "\n",
    "class turn_actions(synergia.simulation.Propagate_actions, Pickle_helper):\n",
    "    def __init__(self, mat):\n",
    "        synergia.simulation.Propagate_actions.__init__(self)\n",
    "        Pickle_helper.__init__(self, mat)\n",
    "        self.matrix = mat #R-matrix being imported\n",
    "    def turn_end_action(self, stepper, bunch, turn_num):\n",
    "        '''Move particles through a single drift and advance the reference particle by the drift length'''\n",
    "        \n",
    "        #define matrix\n",
    "        R_matrix = self.matrix\n",
    "        \n",
    "        particles = bunch.get_local_particles();\n",
    "        for particle in particles:\n",
    "            new_particle = np.dot(R_matrix,particle[0:6]) #This is for full 6x6 multiplication, not using currently.\n",
    "            \n",
    "            #just perform x+y-plane updates\n",
    "            #new_particle = np.zeros(6)\n",
    "            #new_particle[0:2] = np.dot(R_matrix[0:2,0:2],particle[0:2])\n",
    "            #new_particle[2:4] = np.dot(R_matrix[2:4,2:4],particle[2:4])\n",
    "            particle[0:6] = new_particle"
   ]
  },
  {
   "cell_type": "code",
   "execution_count": 5,
   "metadata": {
    "collapsed": true
   },
   "outputs": [],
   "source": [
    "def toyEllipticalBeam(opts, emits):\n",
    "    \n",
    "    '''\n",
    "    Constructs a toy beam consisting of 3 particles total, each one at different emittances.\n",
    "    Arguments:\n",
    "        opts - Options class\n",
    "        emits - an array of emittances.\n",
    "\n",
    "     '''\n",
    "    \n",
    "    #read in the file and construct a synergia bunch\n",
    "    particles_file = \"myBunch{}.txt\".format(opts.tune)\n",
    "    comm = synergia.utils.Commxx(True)\n",
    "    #bucket_length = opts.lattice_simulator.get_bucket_length()\n",
    "    bucket_length = 0.05 #potential workaround\n",
    "    \n",
    "    for emit in emits:\n",
    "        opts.macro_particles = 1\n",
    "        opts.emit_transverse = emit\n",
    "        #construct bunch array and write it to a textfile\n",
    "        particle = EllipticalPart6D(opts)\n",
    "\n",
    "\n",
    "    myBunch = read_bunch.read_bunch(particles_file, ref, opts.real_particles, bucket_length, comm, verbose=False)\n",
    "    \n",
    "    return myBunch"
   ]
  },
  {
   "cell_type": "code",
   "execution_count": 128,
   "metadata": {
    "collapsed": false
   },
   "outputs": [
    {
     "data": {
      "text/plain": [
       "349250524"
      ]
     },
     "execution_count": 128,
     "metadata": {},
     "output_type": "execute_result"
    }
   ],
   "source": [
    "opts.seed"
   ]
  },
  {
   "cell_type": "code",
   "execution_count": 7,
   "metadata": {
    "collapsed": true
   },
   "outputs": [],
   "source": [
    "from base_diagnostics import latticework\n",
    "#Construct R-matrices\n",
    "\n",
    "lattice_folder = '/Users/ncook/Synergia_Tests/lattices/6-6_nll_toy/'\n",
    "latticefiles = get_lattice_files(lattice_folder)\n",
    "simulations = {} #construct a dictionary"
   ]
  },
  {
   "cell_type": "code",
   "execution_count": 131,
   "metadata": {
    "collapsed": false
   },
   "outputs": [
    {
     "name": "stdout",
     "output_type": "stream",
     "text": [
      "Constructed trial bunch with 3 particles.\n",
      "\n",
      "Single particle emittances are:\n",
      "\n",
      "Particle 0: 1.06952815099e-05\n",
      "Warning. Particle Hamiltonians differ from target value by more than 0.5%\n",
      "Particle 1: 1.01977270339e-06\n",
      "Warning. Particle Hamiltonians differ from target value by more than 0.5%\n",
      "Particle 2: 1.00266791828e-07\n",
      "Constructed trial bunch with 3 particles.\n",
      "\n",
      "Single particle emittances are:\n",
      "\n",
      "Particle 0: 1.20439928855e-05\n",
      "Warning. Particle Hamiltonians differ from target value by more than 0.5%\n",
      "Particle 1: 1.06873014344e-06\n",
      "Warning. Particle Hamiltonians differ from target value by more than 0.5%\n",
      "Particle 2: 1.00924773634e-07\n",
      "Warning. Particle Hamiltonians differ from target value by more than 0.5%\n",
      "Constructed trial bunch with 3 particles.\n",
      "\n",
      "Single particle emittances are:\n",
      "\n",
      "Particle 0: 1.29327552448e-05\n",
      "Warning. Particle Hamiltonians differ from target value by more than 0.5%\n",
      "Particle 1: 1.11384460677e-06\n",
      "Warning. Particle Hamiltonians differ from target value by more than 0.5%\n",
      "Particle 2: 1.01541816208e-07\n",
      "Warning. Particle Hamiltonians differ from target value by more than 0.5%\n",
      "Constructed trial bunch with 3 particles.\n",
      "\n",
      "Single particle emittances are:\n",
      "\n",
      "Particle 0: 1.22092981207e-05\n",
      "Warning. Particle Hamiltonians differ from target value by more than 0.5%\n",
      "Particle 1: 1.07615074758e-06\n",
      "Warning. Particle Hamiltonians differ from target value by more than 0.5%\n",
      "Particle 2: 1.01025187742e-07\n",
      "Warning. Particle Hamiltonians differ from target value by more than 0.5%\n",
      "Constructed trial bunch with 3 particles.\n",
      "\n",
      "Single particle emittances are:\n",
      "\n",
      "Particle 0: 1.24990749723e-05\n",
      "Warning. Particle Hamiltonians differ from target value by more than 0.5%\n",
      "Particle 1: 1.09015288926e-06\n",
      "Warning. Particle Hamiltonians differ from target value by more than 0.5%\n",
      "Particle 2: 1.01215674213e-07\n",
      "Warning. Particle Hamiltonians differ from target value by more than 0.5%\n",
      "Constructed trial bunch with 3 particles.\n",
      "\n",
      "Single particle emittances are:\n",
      "\n",
      "Particle 0: 1.3858749548e-05\n",
      "Warning. Particle Hamiltonians differ from target value by more than 0.5%\n",
      "Particle 1: 1.17893897288e-06\n",
      "Warning. Particle Hamiltonians differ from target value by more than 0.5%\n",
      "Particle 2: 1.02473265559e-07\n",
      "Warning. Particle Hamiltonians differ from target value by more than 0.5%\n"
     ]
    }
   ],
   "source": [
    "from base_diagnostics import workflow\n",
    "from base_diagnostics import latticework\n",
    "from base_diagnostics import elliptic_sp\n",
    "from elliptic import EllipticBeam6D\n",
    "#Construct R-matrices\n",
    "\n",
    "lattice_folder = '/Users/ncook/Synergia_Tests/lattices/6-6_nll_toy/'\n",
    "latticefiles = get_lattice_files(lattice_folder)\n",
    "simulations = {} #construct a dictionary\n",
    "\n",
    "for latticefile in latticefiles[2:]:\n",
    "    lattice = synergia.lattice.MadX_reader().get_lattice(\"base\", os.path.join(lattice_folder,latticefile))\n",
    "    name = latticefile[-14:-5]\n",
    "    tune = int(name[3])/10. \n",
    "    \n",
    "    \n",
    "    for elem in lattice.get_elements():\n",
    "        if elem.get_type() == 'nllens':\n",
    "            elem.set_string_attribute(\"extractor_type\", \"chef_propagate\")\n",
    "\n",
    "    nsteps_per_element = 10\n",
    "    nsteps = len(lattice.get_elements())*nsteps_per_element\n",
    "    order = 1\n",
    "    \n",
    "    outputdir = name\n",
    "    opts = workflow.make_opts(name, order, outputdir, nsteps, nsteps_per_element)\n",
    "    opts.macro_particles = 1\n",
    "    opts.tracked_particles = 1\n",
    "    opts.emits = [1.0e-5, 1.0e-6, 1.0e-7]\n",
    "    opts.lattice = lattice\n",
    "    workflow.make_path(outputdir)\n",
    "    opts.relpath = opts.output_dir\n",
    "\n",
    "    stepper = synergia.simulation.Independent_stepper_elements(lattice, opts.map_order, opts.steps_per_element)\n",
    "    lattice_simulator = stepper.get_lattice_simulator()\n",
    "    \n",
    "    \n",
    "    #construct the R-matrix\n",
    "    opts.new_tune = tune\n",
    "    opts.lnll = lattice.get_length()\n",
    "    opts.nseg = 40\n",
    "    opts.t = 0.4\n",
    "    opts.c = 0.01\n",
    "    vals = get_base_nll(opts.nseg, opts.lnll, opts.new_tune, opts.t, opts.c)\n",
    "    \n",
    "    opts.f0 = vals[0]\n",
    "    opts.betae = vals[1]\n",
    "    opts.alphae = vals[2]\n",
    "    opts.beta0 = vals[3]\n",
    "\n",
    "    toy_R = latticework.make_R(opts.f0)\n",
    "    \n",
    "    #construct the operator using our toy R matrix\n",
    "    turn_action = turn_actions(toy_R)\n",
    "    \n",
    "    #construct a bunch and populate with 3 particles of varying emittance\n",
    "    particles = EllipticBeam6D.toyEllipticalBeam6D(opts)\n",
    "    initialH = elliptic_sp.calc_bunch_H(particles,opts)\n",
    "    opts.num_total_particles = len(particles)\n",
    "    \n",
    "    print \"Constructed trial bunch with \" + str(opts.num_total_particles) + \" particles.\"\n",
    "    print\n",
    "    print \"Single particle emittances are:\"\n",
    "    print\n",
    "    for num in range(len(particles)):\n",
    "        print \"Particle \" + str(num) + \": \" + str(initialH[num])\n",
    "        variation = np.abs(initialH[num]- opts.emits[num])/initialH[num]\n",
    "        tol = 5.e-3\n",
    "        if  variation > tol:\n",
    "            print \"Warning. Particle Hamiltonians differ from target value by more than \" + str(tol*100) + \"%\"\n",
    "        \n",
    "    #load the particles into a synergia bunch\n",
    "    particles_file = 'myBunch' + str(name) + '.txt'\n",
    "    comm = synergia.utils.Commxx(True)\n",
    "    bucket_length = 0.05 #potential workaround\n",
    "    ref = lattice.get_reference_particle()\n",
    "    myBunch = synergia.bunch.Bunch(ref,opts.num_total_particles, opts.real_particles, comm,bucket_length)\n",
    "    local_particles = myBunch.get_local_particles()\n",
    "    local_particles[:,:] = particles[:,:]\n",
    "    \n",
    "    #construct a bunch simulator and add diagnostics\n",
    "    bunch_simulator = synergia.simulation.Bunch_simulator(myBunch)\n",
    "\n",
    "    #basic diagnostics - PER STEP\n",
    "    basicdiag = synergia.bunch.Diagnostics_basic(\"basic.h5\", opts.output_dir)\n",
    "    bunch_simulator.add_per_step(basicdiag)\n",
    "\n",
    "    #include full diagnostics\n",
    "    fulldiag = synergia.bunch.Diagnostics_full2(\"full.h5\", opts.output_dir)\n",
    "    bunch_simulator.add_per_turn(fulldiag)\n",
    "\n",
    "    #tracking diagnostics - PER STEP\n",
    "    diagnostics = synergia.bunch.Diagnostics_track(\"track.h5\", opts.tracked_particles, opts.output_dir)\n",
    "    #Track a particle twice per turn (e.g. every ~ num_steps/2 add the diagnostic)\n",
    "    bunch_simulator.add_per_step(diagnostics)\n",
    "\n",
    "    #particle diagnostics - PER TURN\n",
    "    particlediag = synergia.bunch.Diagnostics_particles(\"particles.h5\",0,0,opts.output_dir)\n",
    "    bunch_simulator.add_per_turn(particlediag)\n",
    "    \n",
    "    \n",
    "    #populate the dictionary storing relevant simulation parameters, objects, and pointers to data\n",
    "    simulations[name] = {}\n",
    "    \n",
    "    current = simulations[name]\n",
    "    current['lattice'] = lattice\n",
    "    current['tune'] = tune\n",
    "    current['outputdir'] = outputdir\n",
    "    current['lattice_simulator'] = lattice_simulator\n",
    "    current['stepper'] = stepper\n",
    "    current['opts'] = opts\n",
    "    current['R_matrix'] = toy_R\n",
    "    current['vals'] = vals\n",
    "    current['turn_action'] = turn_action\n",
    "    current['bunch'] = myBunch\n",
    "    current['bunch_simulator'] = bunch_simulator\n",
    "    \n",
    "    #now perform the simulation\n",
    "    opts.turns = 100\n",
    "    propagator = synergia.simulation.Propagator(stepper)\n",
    "    propagator.set_checkpoint_period(opts.checkpointperiod)\n",
    "    propagator.propagate(bunch_simulator, turn_action,\n",
    "                     opts.turns, opts.maxturns,opts.verbosity)\n",
    "\n",
    "    #clean up files\n",
    "    workflow.cleanup(opts.output_dir)\n",
    "    "
   ]
  },
  {
   "cell_type": "markdown",
   "metadata": {},
   "source": [
    "`simulations` is now a dictionary which contains each lattice object, and corresponding tune value. I can also append the lattice simulator, stepper, bunch, etc. for each there. That way I can perform the simulation using objects in the lattices dictionary under each lattice name, and save the appropriate objects within the dictionary."
   ]
  },
  {
   "cell_type": "markdown",
   "metadata": {},
   "source": [
    "##Structured Analysis\n",
    "\n",
    "I will write a script which will analyze all of the runs and produce statistics for each in single data object."
   ]
  },
  {
   "cell_type": "code",
   "execution_count": 294,
   "metadata": {
    "collapsed": true
   },
   "outputs": [],
   "source": [
    "def toy_hstats(sims):\n",
    "    '''The the simulations dictionary and scan through a series of outputs, putting H stats in one dictionary'''\n",
    "    #optslist = []\n",
    "    Hstats = {}\n",
    "    Istats = {}\n",
    "    Hstats['name'] = 'H Stats'\n",
    "    Istats['name'] = 'I Stats'\n",
    "    for key in sims.keys():\n",
    "        opts_current = sims[key]['opts']\n",
    "        tune_current = sims[key]['tune']\n",
    "        #optslist.append(opts_current)\n",
    "        h_current, icurrent = elliptic_sp.toy_analyze_invariant(opts_current)\n",
    "        Hstats[str(tune_current)] = h_current\n",
    "        Istats[str(tune_current)] = i_current\n",
    "    return Hstats, Istats"
   ]
  },
  {
   "cell_type": "code",
   "execution_count": 295,
   "metadata": {
    "collapsed": false
   },
   "outputs": [
    {
     "name": "stdout",
     "output_type": "stream",
     "text": [
      "Particle 0:\n",
      "mean H value: 3.35413550729e-05\n",
      "std of H: 6.28596814857e-06\n",
      "% variation of H: 18.7409487032%\n",
      "Particle 1:\n",
      "mean H value: 3.82225257354e-06\n",
      "std of H: 9.07922273031e-07\n",
      "% variation of H: 23.7535917777%\n",
      "Particle 2:\n",
      "mean H value: 3.11281336293e-07\n",
      "std of H: 2.82549530502e-08\n",
      "% variation of H: 9.07698270211%\n",
      "Particle 0:\n",
      "mean H value: 7.29904724029e-05\n",
      "std of H: 8.52051809861e-06\n",
      "% variation of H: 11.6734661636%\n",
      "Particle 1:\n",
      "mean H value: 9.88928078946e-06\n",
      "std of H: 1.8768747629e-06\n",
      "% variation of H: 18.9788802933%\n",
      "Particle 2:\n",
      "mean H value: 9.32269113039e-07\n",
      "std of H: 1.10649928689e-07\n",
      "% variation of H: 11.8688828302%\n",
      "Particle 0:\n",
      "mean H value: 0.000662858089067\n",
      "std of H: 1.795846644e-05\n",
      "% variation of H: 2.70924753521%\n",
      "Particle 1:\n",
      "mean H value: 0.00010864821835\n",
      "std of H: 9.5409246113e-06\n",
      "% variation of H: 8.78148280407%\n",
      "Particle 2:\n",
      "mean H value: 1.33759863675e-05\n",
      "std of H: 2.22600134869e-06\n",
      "% variation of H: 16.6417734553%\n",
      "Particle 0:\n",
      "mean H value: 0.000166726277055\n",
      "std of H: 6.49133972e-06\n",
      "% variation of H: 3.89341130544%\n",
      "Particle 1:\n",
      "mean H value: 2.39883198436e-05\n",
      "std of H: 1.80280934475e-06\n",
      "% variation of H: 7.51536312881%\n",
      "Particle 2:\n",
      "mean H value: 2.56615504562e-06\n",
      "std of H: 1.34706761969e-07\n",
      "% variation of H: 5.24936177178%\n",
      "Particle 0:\n",
      "mean H value: 2.59808605069e-05\n",
      "std of H: 6.04186686894e-08\n",
      "% variation of H: 0.232550683506%\n",
      "Particle 1:\n",
      "mean H value: 2.86943776987e-06\n",
      "std of H: 4.15074736295e-09\n",
      "% variation of H: 0.144653681168%\n",
      "Particle 2:\n",
      "mean H value: 2.82775526318e-07\n",
      "std of H: 8.27732256727e-11\n",
      "% variation of H: 0.0292717077572%\n",
      "Particle 0:\n",
      "mean H value: 0.000176085031039\n",
      "std of H: 1.2213106482e-05\n",
      "% variation of H: 6.93591409216%\n",
      "Particle 1:\n",
      "mean H value: 2.69366122045e-05\n",
      "std of H: 4.17380768209e-06\n",
      "% variation of H: 15.4949243446%\n",
      "Particle 2:\n",
      "mean H value: 2.91547114894e-06\n",
      "std of H: 4.25801868798e-07\n",
      "% variation of H: 14.6049076477%\n",
      "Particle 0:\n",
      "mean H value: 0.000668175573741\n",
      "std of H: 2.02021326461e-05\n",
      "% variation of H: 3.02347667889%\n",
      "Particle 1:\n",
      "mean H value: 0.00011143597759\n",
      "std of H: 1.11750699956e-05\n",
      "% variation of H: 10.0282424377%\n",
      "Particle 2:\n",
      "mean H value: 1.42276998268e-05\n",
      "std of H: 2.88797562235e-06\n",
      "% variation of H: 20.2982608397%\n",
      "Particle 0:\n",
      "mean H value: 6.34708106446e-05\n",
      "std of H: 1.46812020341e-06\n",
      "% variation of H: 2.31306357758%\n",
      "Particle 1:\n",
      "mean H value: 8.01736878967e-06\n",
      "std of H: 2.08014488253e-07\n",
      "% variation of H: 2.59454808317%\n",
      "Particle 2:\n",
      "mean H value: 8.26495904483e-07\n",
      "std of H: 8.26627389559e-09\n",
      "% variation of H: 1.00015908739%\n"
     ]
    }
   ],
   "source": [
    "HS, IS = toy_hstats(simulations)"
   ]
  },
  {
   "cell_type": "code",
   "execution_count": 238,
   "metadata": {
    "collapsed": false
   },
   "outputs": [],
   "source": [
    "hArray, iArray = elliptic_sp.calc_bunch_H(myBunch,opts)"
   ]
  },
  {
   "cell_type": "code",
   "execution_count": 257,
   "metadata": {
    "collapsed": false
   },
   "outputs": [],
   "source": [
    "hVals, iVals = elliptic_sp.toy_calc_elliptic_Invariant(optslist[1])"
   ]
  },
  {
   "cell_type": "markdown",
   "metadata": {},
   "source": [
    "####Writing the output to file"
   ]
  },
  {
   "cell_type": "code",
   "execution_count": 298,
   "metadata": {
    "collapsed": false
   },
   "outputs": [],
   "source": [
    "#dump analyzed data\n",
    "import json\n",
    "\n",
    "outputfileH = 'H_stats.txt'\n",
    "outputfileI = 'I_stats.txt'\n",
    "\n",
    "with open(outputfileH, 'w+') as f:\n",
    "    json.dump(HS,f)\n",
    "\n",
    "with open(outputfileI, 'w+') as f:\n",
    "    json.dump(IS,f)"
   ]
  },
  {
   "cell_type": "code",
   "execution_count": 299,
   "metadata": {
    "collapsed": true
   },
   "outputs": [],
   "source": [
    "#load analyzed data\n",
    "with open(outputfileH,'r') as f:\n",
    "    H3 = json.load(f)"
   ]
  },
  {
   "cell_type": "markdown",
   "metadata": {},
   "source": [
    "####Plotting the variation of $\\sigma$H with tune "
   ]
  },
  {
   "cell_type": "code",
   "execution_count": 209,
   "metadata": {
    "collapsed": false
   },
   "outputs": [],
   "source": [
    "#dH_list = []\n",
    "dH_list6 = []\n",
    "dH_list5 = []\n",
    "tune_list = []\n",
    "for key in Hstats.keys():\n",
    "    #Hstats[key][2,3] #grab the variation for the lowest emittance\n",
    "    tune_list.append(float(key))\n",
    "    dH_list6.append(Hstats[key][1][3])\n",
    "    dH_list5.append(Hstats[key][0][3])"
   ]
  },
  {
   "cell_type": "code",
   "execution_count": 153,
   "metadata": {
    "collapsed": false
   },
   "outputs": [
    {
     "data": {
      "text/plain": [
       "<matplotlib.collections.PathCollection at 0x115f02bd0>"
      ]
     },
     "execution_count": 153,
     "metadata": {},
     "output_type": "execute_result"
    },
    {
     "data": {
      "image/png": "[encoded data removed]",
      "text/plain": [
       "<matplotlib.figure.Figure at 0x114f15290>"
      ]
     },
     "metadata": {},
     "output_type": "display_data"
    }
   ],
   "source": [
    "plt.scatter(tune_list,dH_list)"
   ]
  },
  {
   "cell_type": "markdown",
   "metadata": {},
   "source": [
    "The next 2 plots show the particles with 1.e-6 and 1.e-5 values of H, respectively"
   ]
  },
  {
   "cell_type": "code",
   "execution_count": 213,
   "metadata": {
    "collapsed": false
   },
   "outputs": [
    {
     "data": {
      "text/plain": [
       "<matplotlib.collections.PathCollection at 0x116114f90>"
      ]
     },
     "execution_count": 213,
     "metadata": {},
     "output_type": "execute_result"
    },
    {
     "data": {
      "image/png": "[encoded data removed]",
      "text/plain": [
       "<matplotlib.figure.Figure at 0x114439dd0>"
      ]
     },
     "metadata": {},
     "output_type": "display_data"
    }
   ],
   "source": [
    "plt.scatter(tune_list,dH_list6)"
   ]
  },
  {
   "cell_type": "code",
   "execution_count": 214,
   "metadata": {
    "collapsed": false
   },
   "outputs": [
    {
     "data": {
      "text/plain": [
       "<matplotlib.collections.PathCollection at 0x1136c0110>"
      ]
     },
     "execution_count": 214,
     "metadata": {},
     "output_type": "execute_result"
    },
    {
     "data": {
      "image/png": "[encoded data removed]",
      "text/plain": [
       "<matplotlib.figure.Figure at 0x11663da50>"
      ]
     },
     "metadata": {},
     "output_type": "display_data"
    }
   ],
   "source": [
    "plt.scatter(tune_list,dH_list5)"
   ]
  },
  {
   "cell_type": "code",
   "execution_count": 156,
   "metadata": {
    "collapsed": true
   },
   "outputs": [],
   "source": [
    "x_test = np.linspace(0,0.5)\n",
    "x_cubed = x_test**3"
   ]
  },
  {
   "cell_type": "code",
   "execution_count": 160,
   "metadata": {
    "collapsed": false
   },
   "outputs": [
    {
     "data": {
      "text/plain": [
       "[<matplotlib.lines.Line2D at 0x116015f90>]"
      ]
     },
     "execution_count": 160,
     "metadata": {},
     "output_type": "execute_result"
    },
    {
     "data": {
      "image/png": "[encoded data removed]",
      "text/plain": [
       "<matplotlib.figure.Figure at 0x114f15790>"
      ]
     },
     "metadata": {},
     "output_type": "display_data"
    }
   ],
   "source": [
    "plt.scatter(tune_list,dH_list)\n",
    "plt.plot(x_test,scalar*x_cubed)"
   ]
  },
  {
   "cell_type": "code",
   "execution_count": 203,
   "metadata": {
    "collapsed": false
   },
   "outputs": [],
   "source": [
    "scalar = 210\n",
    "x2_test = np.linspace(0.6,1)\n",
    "scalar2 = 10\n",
    "scalar3 = 400\n",
    "x2_vals = scalar3*(1-x2_test)**3 + scalar2*x2_test**5"
   ]
  },
  {
   "cell_type": "code",
   "execution_count": 207,
   "metadata": {
    "collapsed": false
   },
   "outputs": [
    {
     "data": {
      "image/png": "[encoded data removed]",
      "text/plain": [
       "<matplotlib.figure.Figure at 0x114854f10>"
      ]
     },
     "metadata": {},
     "output_type": "display_data"
    }
   ],
   "source": [
    "fig = plt.figure()\n",
    "ax = fig.add_subplot(1,1,1)\n",
    "ax.scatter(tune_list,dH_list)\n",
    "ax.plot(x_test,scalar*x_cubed)\n",
    "#ax.plot(x2_test,x2_vals)\n",
    "plt.xlim([0,1.0])\n",
    "plt.ylim([0,25])\n",
    "plt.xlabel('Tune through NL drift',fontsize=12)\n",
    "plt.ylabel('$\\sigma H / H_0$ [%]',fontsize=12)\n",
    "title = 'Standard Deviation in H versus tune through NL drift'\n",
    "plt.title(title, y=1.05, fontsize=14)\n",
    "sv_title = 'sigmaH_1e-7_vtune.pdf'\n",
    "fig.savefig(sv_title, bbox_inches='tight')"
   ]
  },
  {
   "cell_type": "markdown",
   "metadata": {},
   "source": [
    "###Initial Analysis\n",
    "\n",
    "A quick test based on the toy scripts for the 0.1 and 0.2 tune cases."
   ]
  },
  {
   "cell_type": "code",
   "execution_count": 118,
   "metadata": {
    "collapsed": false
   },
   "outputs": [
    {
     "data": {
      "text/plain": [
       "{'0pt1_tune': {'R_matrix': array([[ 1.        ,  0.        ,  0.        ,  0.        ,  0.        ,\n",
       "           0.        ],\n",
       "         [-0.63661002,  1.        ,  0.        ,  0.        ,  0.        ,\n",
       "           0.        ],\n",
       "         [ 0.        ,  0.        ,  1.        ,  0.        ,  0.        ,\n",
       "           0.        ],\n",
       "         [ 0.        ,  0.        , -0.63661002,  1.        ,  0.        ,\n",
       "           0.        ],\n",
       "         [ 0.        ,  0.        ,  0.        ,  0.        ,  1.        ,\n",
       "           3.2       ],\n",
       "         [ 0.        ,  0.        ,  0.        ,  0.        ,  0.        ,\n",
       "           1.        ]]),\n",
       "  'bunch': <synergia.bunch.bunch.Bunch at 0x113346af8>,\n",
       "  'bunch_simulator': <synergia.simulation.simulation.Bunch_simulator at 0x113346b50>,\n",
       "  'lattice': <synergia.lattice.lattice.Lattice at 0x113345ed8>,\n",
       "  'lattice_simulator': <synergia.simulation.simulation.Lattice_simulator at 0x113303f30>,\n",
       "  'opts': <synergia_workflow.options.Options instance at 0x113342878>,\n",
       "  'outputdir': '0pt1_tune',\n",
       "  'stepper': <synergia.simulation.simulation.Independent_stepper_elements at 0x113346890>,\n",
       "  'tune': 0.1,\n",
       "  'turn_action': <__main__.turn_actions at 0x113346a48>,\n",
       "  'vals': [1.5708203932499374,\n",
       "   1.0207809700224479,\n",
       "   0.32491969623290623,\n",
       "   0.92330506115257605]},\n",
       " '0pt2_tune': {'R_matrix': array([[ 1.        ,  0.        ,  0.        ,  0.        ,  0.        ,\n",
       "           0.        ],\n",
       "         [-1.15163834,  1.        ,  0.        ,  0.        ,  0.        ,\n",
       "           0.        ],\n",
       "         [ 0.        ,  0.        ,  1.        ,  0.        ,  0.        ,\n",
       "           0.        ],\n",
       "         [ 0.        ,  0.        , -1.15163834,  1.        ,  0.        ,\n",
       "           0.        ],\n",
       "         [ 0.        ,  0.        ,  0.        ,  0.        ,  1.        ,\n",
       "           3.2       ],\n",
       "         [ 0.        ,  0.        ,  0.        ,  0.        ,  0.        ,\n",
       "           1.        ]]),\n",
       "  'bunch': <synergia.bunch.bunch.Bunch at 0x113346ec0>,\n",
       "  'bunch_simulator': <synergia.simulation.simulation.Bunch_simulator at 0x113346f18>,\n",
       "  'lattice': <synergia.lattice.lattice.Lattice at 0x113345f50>,\n",
       "  'lattice_simulator': <synergia.simulation.simulation.Lattice_simulator at 0x113348130>,\n",
       "  'opts': <synergia_workflow.options.Options instance at 0x113342fc8>,\n",
       "  'outputdir': '0pt2_tune',\n",
       "  'stepper': <synergia.simulation.simulation.Independent_stepper_elements at 0x113346d60>,\n",
       "  'tune': 0.2,\n",
       "  'turn_action': <__main__.turn_actions at 0x113346e10>,\n",
       "  'vals': [0.8683281572999747,\n",
       "   1.2617546690859207,\n",
       "   0.7265425280053609,\n",
       "   0.82582915228270415]}}"
      ]
     },
     "execution_count": 118,
     "metadata": {},
     "output_type": "execute_result"
    }
   ],
   "source": [
    "simulations"
   ]
  },
  {
   "cell_type": "code",
   "execution_count": 119,
   "metadata": {
    "collapsed": false
   },
   "outputs": [
    {
     "name": "stdout",
     "output_type": "stream",
     "text": [
      "Particle 0:\n",
      "mean H value: 2.59808605069e-05\n",
      "std of H: 6.04186686894e-08\n",
      "% variation of H: 0.232550683506%\n",
      "Particle 1:\n",
      "mean H value: 2.86943776987e-06\n",
      "std of H: 4.15074736295e-09\n",
      "% variation of H: 0.144653681168%\n",
      "Particle 2:\n",
      "mean H value: 2.82775526318e-07\n",
      "std of H: 8.27732256727e-11\n",
      "% variation of H: 0.0292717077572%\n"
     ]
    }
   ],
   "source": [
    "hstats = elliptic_sp.toy_analyze_invariant(opts1)"
   ]
  },
  {
   "cell_type": "code",
   "execution_count": 120,
   "metadata": {
    "collapsed": false
   },
   "outputs": [
    {
     "name": "stdout",
     "output_type": "stream",
     "text": [
      "Particle 0:\n",
      "mean H value: 6.34708106446e-05\n",
      "std of H: 1.46812020341e-06\n",
      "% variation of H: 2.31306357758%\n",
      "Particle 1:\n",
      "mean H value: 8.01736878967e-06\n",
      "std of H: 2.08014488253e-07\n",
      "% variation of H: 2.59454808317%\n",
      "Particle 2:\n",
      "mean H value: 8.26495904483e-07\n",
      "std of H: 8.26627389559e-09\n",
      "% variation of H: 1.00015908739%\n"
     ]
    }
   ],
   "source": [
    "hstats2 = elliptic_sp.toy_analyze_invariant(opts2)"
   ]
  },
  {
   "cell_type": "code",
   "execution_count": 117,
   "metadata": {
    "collapsed": true
   },
   "outputs": [],
   "source": [
    "s1 = simulations['0pt1_tune']\n",
    "s2 = simulations['0pt2_tune']\n",
    "\n",
    "firstBunch = s1['bunch']\n",
    "secondBunch = s2['bunch']\n",
    "\n",
    "opts1 = s1['opts']\n",
    "opts2 = s2['opts']"
   ]
  },
  {
   "cell_type": "code",
   "execution_count": 69,
   "metadata": {
    "collapsed": false
   },
   "outputs": [
    {
     "data": {
      "image/png": "[encoded data removed]",
      "text/plain": [
       "<matplotlib.figure.Figure at 0x1148cdf90>"
      ]
     },
     "metadata": {},
     "output_type": "display_data"
    }
   ],
   "source": [
    "from base_diagnostics import options\n",
    "\n",
    "s1 = simulations['0pt1_tune']\n",
    "opts = s1['opts']\n",
    "vals = s1['vals']\n",
    "\n",
    "popts = options.Options()\n",
    "popts.lattice_name = opts.name\n",
    "popts.ID = None\n",
    "popts.path = None\n",
    "popts.turns = opts.turns \n",
    "popts.norm = False\n",
    "popts.save = True\n",
    "popts.variance = 0.5\n",
    "#popts.lattice_simulator = opts.lattice_simulator\n",
    "popts.relpath = opts.output_dir\n",
    "popts.lf_fns = ['beta_x','beta_y']\n",
    "popts.lattice = opts.lattice\n",
    "popts.alphae = opts.alphae\n",
    "popts.betae = opts.betae\n",
    "\n",
    "popts.plots = ['x','px']\n",
    "popts.num = 3\n",
    "popts.scale = 2\n",
    "popts.plot_lost = False\n",
    "\n",
    "elliptic_sp.toy_plot_Poincare(popts)"
   ]
  },
  {
   "cell_type": "code",
   "execution_count": 68,
   "metadata": {
    "collapsed": false
   },
   "outputs": [
    {
     "data": {
      "image/png": "[encoded data removed]",
      "text/plain": [
       "<matplotlib.figure.Figure at 0x115018c50>"
      ]
     },
     "metadata": {},
     "output_type": "display_data"
    }
   ],
   "source": [
    "from base_diagnostics import options\n",
    "\n",
    "s1 = simulations['0pt1_tune']\n",
    "opts = s1['opts']\n",
    "vals = s1['vals']\n",
    "\n",
    "popts = options.Options()\n",
    "popts.lattice_name = opts.name\n",
    "popts.ID = None\n",
    "popts.path = None\n",
    "popts.turns = opts.turns \n",
    "popts.norm = False\n",
    "popts.save = True\n",
    "popts.variance = 0.5\n",
    "#popts.lattice_simulator = opts.lattice_simulator\n",
    "popts.relpath = opts.output_dir\n",
    "popts.lf_fns = ['beta_x','beta_y']\n",
    "popts.lattice = opts.lattice\n",
    "popts.alphae = opts.alphae\n",
    "popts.betae = opts.betae\n",
    "\n",
    "popts.plots = ['y','py']\n",
    "popts.num = 3\n",
    "popts.scale = 2\n",
    "popts.plot_lost = False\n",
    "\n",
    "elliptic_sp.toy_plot_Poincare(popts)"
   ]
  },
  {
   "cell_type": "code",
   "execution_count": 67,
   "metadata": {
    "collapsed": false
   },
   "outputs": [
    {
     "data": {
      "image/png": "[encoded data removed]",
      "text/plain": [
       "<matplotlib.figure.Figure at 0x113f97990>"
      ]
     },
     "metadata": {},
     "output_type": "display_data"
    }
   ],
   "source": [
    "from base_diagnostics import options\n",
    "\n",
    "s1 = simulations['0pt1_tune']\n",
    "opts = s1['opts']\n",
    "vals = s1['vals']\n",
    "\n",
    "popts = options.Options()\n",
    "popts.lattice_name = opts.name\n",
    "popts.ID = None\n",
    "popts.path = None\n",
    "popts.turns = opts.turns \n",
    "popts.norm = False\n",
    "popts.save = True\n",
    "popts.variance = 0.5\n",
    "#popts.lattice_simulator = opts.lattice_simulator\n",
    "popts.relpath = opts.output_dir\n",
    "popts.lf_fns = ['beta_x','beta_y']\n",
    "popts.lattice = opts.lattice\n",
    "popts.alphae = opts.alphae\n",
    "popts.betae = opts.betae\n",
    "\n",
    "popts.plots = ['x','y']\n",
    "popts.num = 3\n",
    "popts.scale = 2\n",
    "popts.plot_lost = False\n",
    "\n",
    "elliptic_sp.toy_plot_Poincare(popts)"
   ]
  },
  {
   "cell_type": "code",
   "execution_count": 124,
   "metadata": {
    "collapsed": false
   },
   "outputs": [
    {
     "data": {
      "image/png": "[encoded data removed]",
      "text/plain": [
       "<matplotlib.figure.Figure at 0x1132b4990>"
      ]
     },
     "metadata": {},
     "output_type": "display_data"
    }
   ],
   "source": [
    "from base_diagnostics import options\n",
    "\n",
    "opts = s2['opts']\n",
    "vals = s2['vals']\n",
    "\n",
    "popts = options.Options()\n",
    "popts.lattice_name = opts.name\n",
    "popts.ID = None\n",
    "popts.path = None\n",
    "popts.turns = opts.turns \n",
    "popts.norm = False\n",
    "popts.save = True\n",
    "popts.variance = 0.5\n",
    "#popts.lattice_simulator = opts.lattice_simulator\n",
    "popts.relpath = opts.output_dir\n",
    "popts.lf_fns = ['beta_x','beta_y']\n",
    "popts.lattice = opts.lattice\n",
    "popts.alphae = opts.alphae\n",
    "popts.betae = opts.betae\n",
    "\n",
    "popts.plots = ['x','px']\n",
    "popts.num = 3\n",
    "popts.scale = 2\n",
    "popts.plot_lost = False\n",
    "\n",
    "elliptic_sp.toy_plot_Poincare(popts)"
   ]
  },
  {
   "cell_type": "code",
   "execution_count": 125,
   "metadata": {
    "collapsed": false
   },
   "outputs": [
    {
     "data": {
      "image/png": "[encoded data removed]",
      "text/plain": [
       "<matplotlib.figure.Figure at 0x1148ae0d0>"
      ]
     },
     "metadata": {},
     "output_type": "display_data"
    }
   ],
   "source": [
    "from base_diagnostics import options\n",
    "\n",
    "opts = s2['opts']\n",
    "vals = s2['vals']\n",
    "\n",
    "popts = options.Options()\n",
    "popts.lattice_name = opts.name\n",
    "popts.ID = None\n",
    "popts.path = None\n",
    "popts.turns = opts.turns \n",
    "popts.norm = False\n",
    "popts.save = True\n",
    "popts.variance = 0.5\n",
    "#popts.lattice_simulator = opts.lattice_simulator\n",
    "popts.relpath = opts.output_dir\n",
    "popts.lf_fns = ['beta_x','beta_y']\n",
    "popts.lattice = opts.lattice\n",
    "popts.alphae = opts.alphae\n",
    "popts.betae = opts.betae\n",
    "\n",
    "popts.plots = ['y','py']\n",
    "popts.num = 3\n",
    "popts.scale = 2\n",
    "popts.plot_lost = False\n",
    "\n",
    "elliptic_sp.toy_plot_Poincare(popts)"
   ]
  },
  {
   "cell_type": "code",
   "execution_count": 126,
   "metadata": {
    "collapsed": false
   },
   "outputs": [
    {
     "data": {
      "image/png": "[encoded data removed]",
      "text/plain": [
       "<matplotlib.figure.Figure at 0x113f92e10>"
      ]
     },
     "metadata": {},
     "output_type": "display_data"
    }
   ],
   "source": [
    "from base_diagnostics import options\n",
    "\n",
    "opts = s2['opts']\n",
    "vals = s2['vals']\n",
    "\n",
    "popts = options.Options()\n",
    "popts.lattice_name = opts.name\n",
    "popts.ID = None\n",
    "popts.path = None\n",
    "popts.turns = opts.turns \n",
    "popts.norm = False\n",
    "popts.save = True\n",
    "popts.variance = 0.5\n",
    "#popts.lattice_simulator = opts.lattice_simulator\n",
    "popts.relpath = opts.output_dir\n",
    "popts.lf_fns = ['beta_x','beta_y']\n",
    "popts.lattice = opts.lattice\n",
    "popts.alphae = opts.alphae\n",
    "popts.betae = opts.betae\n",
    "\n",
    "popts.plots = ['x','y']\n",
    "popts.num = 3\n",
    "popts.scale = 2\n",
    "popts.plot_lost = False\n",
    "\n",
    "elliptic_sp.toy_plot_Poincare(popts)"
   ]
  },
  {
   "cell_type": "markdown",
   "metadata": {},
   "source": [
    "##Script development and testing"
   ]
  },
  {
   "cell_type": "code",
   "execution_count": 58,
   "metadata": {
    "collapsed": false
   },
   "outputs": [],
   "source": [
    "hAfter = hArray[1::]\n",
    "h1s = hAfter[:,0]\n",
    "h2s = hAfter[:,1]\n",
    "h3s = hAfter[:,2]"
   ]
  },
  {
   "cell_type": "code",
   "execution_count": 59,
   "metadata": {
    "collapsed": false
   },
   "outputs": [
    {
     "name": "stdout",
     "output_type": "stream",
     "text": [
      "0.232550683506\n"
     ]
    }
   ],
   "source": [
    "h_mean = np.mean(h1s)\n",
    "h_std = np.std(h1s)\n",
    "print (h_std/h_mean)*100."
   ]
  },
  {
   "cell_type": "code",
   "execution_count": 60,
   "metadata": {
    "collapsed": false
   },
   "outputs": [
    {
     "name": "stdout",
     "output_type": "stream",
     "text": [
      "0.144653681168\n"
     ]
    }
   ],
   "source": [
    "h_mean = np.mean(h2s)\n",
    "h_std = np.std(h2s)\n",
    "print (h_std/h_mean)*100."
   ]
  },
  {
   "cell_type": "code",
   "execution_count": 61,
   "metadata": {
    "collapsed": false
   },
   "outputs": [
    {
     "name": "stdout",
     "output_type": "stream",
     "text": [
      "0.0292717077572\n"
     ]
    }
   ],
   "source": [
    "h_mean = np.mean(h3s)\n",
    "h_std = np.std(h3s)\n",
    "print (h_std/h_mean)*100."
   ]
  },
  {
   "cell_type": "code",
   "execution_count": 15,
   "metadata": {
    "collapsed": true
   },
   "outputs": [],
   "source": [
    "#construct the R-matrix\n",
    "opts.new_tune = tune\n",
    "opts.lnll = lattice.get_length()\n",
    "opts.nseg = 40\n",
    "opts.t = 0.4\n",
    "opts.c = 0.01\n",
    "vals = get_base_nll(opts.nseg, opts.lnll, opts.new_tune, opts.t, opts.c)\n",
    "\n",
    "opts.f0 = vals[0]\n",
    "opts.betae = vals[1]\n",
    "opts.alphae = vals[2]\n",
    "opts.beta0 = vals[3]"
   ]
  },
  {
   "cell_type": "code",
   "execution_count": 25,
   "metadata": {
    "collapsed": false
   },
   "outputs": [],
   "source": [
    "opts.emits = [1.0e-5, 1.0e-6, 1.0e-7]"
   ]
  },
  {
   "cell_type": "code",
   "execution_count": 100,
   "metadata": {
    "collapsed": false
   },
   "outputs": [
    {
     "data": {
      "text/plain": [
       "list"
      ]
     },
     "execution_count": 100,
     "metadata": {},
     "output_type": "execute_result"
    }
   ],
   "source": [
    "type(trialBunch)"
   ]
  },
  {
   "cell_type": "code",
   "execution_count": 119,
   "metadata": {
    "collapsed": false
   },
   "outputs": [
    {
     "name": "stdout",
     "output_type": "stream",
     "text": [
      "Constructed trial bunch with 3 particles.\n",
      "\n",
      "Single particle emittances are:\n",
      "\n",
      "Particle 0: 1.00170268211e-05\n",
      "Particle 1: 1.00045733521e-06\n",
      "Particle 2: 1.00006201733e-07\n"
     ]
    }
   ],
   "source": [
    "trialBunch2 = EllipticBeam6D.toyEllipticalBeam6D(opts)\n",
    "initialH = elliptic_sp.calc_bunch_H(trialBunch2,opts)\n",
    "\n",
    "\n",
    "    \n",
    "print \"Constructed trial bunch with \" + str(len(trialBunch2)) + \" particles.\"\n",
    "print\n",
    "print \"Single particle emittances are:\"\n",
    "print\n",
    "for num in range(len(trialBunch2)):\n",
    "    print \"Particle \" + str(num) + \": \" + str(initialH[num])\n",
    "    variation = np.abs(initialH[num]- opts.emits[num])/initialH[num]\n",
    "    tol = 1.e-2\n",
    "    if  variation > tol:\n",
    "        print \"Warning. Particle Hamiltonians differ from target value by more than \" + str(tol*100) + \"%\""
   ]
  },
  {
   "cell_type": "code",
   "execution_count": 105,
   "metadata": {
    "collapsed": false
   },
   "outputs": [
    {
     "data": {
      "text/plain": [
       "numpy.ndarray"
      ]
     },
     "execution_count": 105,
     "metadata": {},
     "output_type": "execute_result"
    }
   ],
   "source": [
    "type(trialBunch2)"
   ]
  },
  {
   "cell_type": "code",
   "execution_count": 81,
   "metadata": {
    "collapsed": false
   },
   "outputs": [],
   "source": [
    "trialBunch = EllipticBeam6D.toyEllipticalBeam6D(opts)\n",
    "particles = []\n",
    "p1 = []\n",
    "for arr in trialBunch:\n",
    "    p1.append(arr[0])\n",
    "particles = np.asarray(p1)"
   ]
  },
  {
   "cell_type": "code",
   "execution_count": 110,
   "metadata": {
    "collapsed": false
   },
   "outputs": [],
   "source": [
    "from base_diagnostics import elliptic_sp\n",
    "initialH = elliptic_sp.calc_bunch_H(trialBunch2,opts)"
   ]
  },
  {
   "cell_type": "code",
   "execution_count": 111,
   "metadata": {
    "collapsed": false
   },
   "outputs": [
    {
     "data": {
      "text/plain": [
       "array([  1.00170268e-05,   1.00045734e-06,   1.00006202e-07])"
      ]
     },
     "execution_count": 111,
     "metadata": {},
     "output_type": "execute_result"
    }
   ],
   "source": [
    "testH"
   ]
  },
  {
   "cell_type": "code",
   "execution_count": 22,
   "metadata": {
    "collapsed": false
   },
   "outputs": [
    {
     "data": {
      "text/plain": [
       "[array([-0.00133461, -0.00162111, -0.00445802, -0.00352385])]"
      ]
     },
     "execution_count": 22,
     "metadata": {},
     "output_type": "execute_result"
    }
   ],
   "source": [
    "EllipticBeam6D.toyEllipticalBeam6D(opts)"
   ]
  },
  {
   "cell_type": "code",
   "execution_count": 23,
   "metadata": {
    "collapsed": false
   },
   "outputs": [
    {
     "data": {
      "text/plain": [
       "[array([-0.00133461, -0.00162111, -0.00445802, -0.00352385])]"
      ]
     },
     "execution_count": 23,
     "metadata": {},
     "output_type": "execute_result"
    }
   ],
   "source": [
    "EllipticBeam6D.toyEllipticalBeam6D(opts)"
   ]
  },
  {
   "cell_type": "code",
   "execution_count": 53,
   "metadata": {
    "collapsed": false
   },
   "outputs": [],
   "source": [
    "opts.lattice = lattice\n",
    "from base_diagnostics import elliptic_sp\n",
    "twiss = elliptic_sp.get_toy_twiss(opts)"
   ]
  },
  {
   "cell_type": "code",
   "execution_count": 95,
   "metadata": {
    "collapsed": false
   },
   "outputs": [],
   "source": [
    "header= {}\n",
    "header['s_val'] = 0\n",
    "norm_coords = elliptic_sp.normalized_coordinates(header, particles, twiss)\n",
    "u,v = elliptic_sp.elliptic_coordinates(norm_coords, opts)"
   ]
  },
  {
   "cell_type": "code",
   "execution_count": 85,
   "metadata": {
    "collapsed": false,
    "scrolled": true
   },
   "outputs": [
    {
     "data": {
      "text/plain": [
       "array([[-0.00150769, -0.00247622, -0.00503615, -0.00590565],\n",
       "       [-0.00060895, -0.0007314 , -0.00203408, -0.00191244],\n",
       "       [-0.0002089 , -0.00021145, -0.0006978 , -0.00058664]])"
      ]
     },
     "execution_count": 85,
     "metadata": {},
     "output_type": "execute_result"
    }
   ],
   "source": [
    "norm_coords"
   ]
  },
  {
   "cell_type": "code",
   "execution_count": 96,
   "metadata": {
    "collapsed": false
   },
   "outputs": [
    {
     "data": {
      "text/plain": [
       "array([[ -1.50768822e-03,  -1.49646375e-03,  -5.03615451e-03,\n",
       "         -2.63296032e-03],\n",
       "       [ -6.08949667e-04,  -3.35680322e-04,  -2.03408408e-03,\n",
       "         -5.90614351e-04],\n",
       "       [ -2.08903063e-04,  -7.56927582e-05,  -6.97802162e-04,\n",
       "         -1.33177986e-04]])"
      ]
     },
     "execution_count": 96,
     "metadata": {},
     "output_type": "execute_result"
    }
   ],
   "source": [
    "norm_coords"
   ]
  },
  {
   "cell_type": "code",
   "execution_count": 97,
   "metadata": {
    "collapsed": true
   },
   "outputs": [],
   "source": [
    "hArray = elliptic_sp.single_particle_hamiltonian(norm_coords) + elliptic_sp.elliptic_hamiltonian(u,v,opts)  "
   ]
  },
  {
   "cell_type": "code",
   "execution_count": 98,
   "metadata": {
    "collapsed": false
   },
   "outputs": [
    {
     "data": {
      "text/plain": [
       "array([  1.00170268e-05,   1.00045734e-06,   1.00006202e-07])"
      ]
     },
     "execution_count": 98,
     "metadata": {},
     "output_type": "execute_result"
    }
   ],
   "source": [
    "hArray"
   ]
  },
  {
   "cell_type": "code",
   "execution_count": 92,
   "metadata": {
    "collapsed": false
   },
   "outputs": [],
   "source": [
    "iArray = elliptic_sp.second_invariant(norm_coords,u,v,opts)"
   ]
  },
  {
   "cell_type": "code",
   "execution_count": 94,
   "metadata": {
    "collapsed": false
   },
   "outputs": [
    {
     "data": {
      "text/plain": [
       "array([  2.59352773e-05,   2.86589468e-06,   2.82699736e-07])"
      ]
     },
     "execution_count": 94,
     "metadata": {},
     "output_type": "execute_result"
    }
   ],
   "source": [
    "hArray"
   ]
  },
  {
   "cell_type": "code",
   "execution_count": null,
   "metadata": {
    "collapsed": true
   },
   "outputs": [],
   "source": [
    "\n",
    "#t2 = twiss[:-1,:]\n",
    "#twiss = get_twiss(opts.lattice_simulator)\n",
    "\n",
    "lost = None\n",
    "hArray = get_single_particle_elliptic_invariants(files, twiss, opts, lost, 1)\n",
    "iArray = get_single_particle_elliptic_invariants(files, twiss, opts, lost, 2)"
   ]
  },
  {
   "cell_type": "code",
   "execution_count": null,
   "metadata": {
    "collapsed": true
   },
   "outputs": [],
   "source": [
    "particles = \n",
    "norm_coords = normalized_coordinates(header, particles, twiss)\n",
    "#construct elliptic coordinates for that file\n",
    "u,v = elliptic_coordinates(norm_coords, opts)"
   ]
  },
  {
   "cell_type": "code",
   "execution_count": 54,
   "metadata": {
    "collapsed": false
   },
   "outputs": [
    {
     "data": {
      "text/plain": [
       "array([ 0.        ,  1.02078097,  0.3249197 ,  1.08306565,  1.02078097,\n",
       "        0.3249197 ,  1.08306565])"
      ]
     },
     "execution_count": 54,
     "metadata": {},
     "output_type": "execute_result"
    }
   ],
   "source": [
    "twiss[0]"
   ]
  },
  {
   "cell_type": "code",
   "execution_count": 55,
   "metadata": {
    "collapsed": false
   },
   "outputs": [
    {
     "data": {
      "text/plain": [
       "1.0207809700224479"
      ]
     },
     "execution_count": 55,
     "metadata": {},
     "output_type": "execute_result"
    }
   ],
   "source": [
    "opts1.betae"
   ]
  },
  {
   "cell_type": "code",
   "execution_count": null,
   "metadata": {
    "collapsed": true
   },
   "outputs": [],
   "source": [
    "h"
   ]
  }
 ],
 "metadata": {
  "kernelspec": {
   "display_name": "Python 2",
   "language": "python",
   "name": "python2"
  },
  "language_info": {
   "codemirror_mode": {
    "name": "ipython",
    "version": 2
   },
   "file_extension": ".py",
   "mimetype": "text/x-python",
   "name": "python",
   "nbconvert_exporter": "python",
   "pygments_lexer": "ipython2",
   "version": "2.7.10"
  }
 },
 "nbformat": 4,
 "nbformat_minor": 0
}
