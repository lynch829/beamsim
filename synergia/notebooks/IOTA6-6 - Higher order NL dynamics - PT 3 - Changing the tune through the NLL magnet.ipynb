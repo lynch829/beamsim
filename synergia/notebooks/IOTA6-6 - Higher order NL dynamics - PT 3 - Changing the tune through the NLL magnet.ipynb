{
 "cells": [
  {
   "cell_type": "markdown",
   "metadata": {},
   "source": [
    "#Part 3. Changing the tune through the NLL magnet - Influence on the Invariants\n",
    "\n",
    "This is part 3 in the notebook series investigating how the single particle invariants change with increase particle amplitude (or bunch generalized emittance). See [Part 1 - Comparing Full Chef to Linear Dynamics](IOTA6-6 - Testing Larger Amplitude Particles with the Nonlinear Element - PT1 - Comparing Full chef to linear dynamics.ipynb) for a look at how the nonlinear aspects of \"linear\" lattice elements may affect the invariant. See [Part 2 -  Slicing the Nonlinear Magnet in MADX](IOTA6-6 - Testing Larger Amplitude Particles with the Nonlinear Element - PT 2 - Increasing the magnet slices) for a look at how further refinement/slicing of the nonlinear magnet can influence the particle motion.\n",
    "\n",
    "The testing in part 1 showed a strong reduction in the number of outliers from our bunch (those particles with extremely large deviations from the mean invariant over the 100 turns). The result was a significant reduction in the standard deviation of the 2nd invariant - from ~16% down to 3% - and an additional reduction in the Hamiltonian (1st invariant) - from 3.1% down to 2.4%. \n",
    "\n",
    "The testing in part 2 made clear that the nonlinear potential is well described using 20 total slices. Increasing the number of slices to 40 made very little difference in the statistical spread of the single particle invariants, as the mean values remained the same, and standard deviations of 2.4% in H and 3.1% in I remained.\n",
    "\n",
    "**This has led us to consider an additional possibility**: the nonlinear Hamiltonian specified by the IOTA lattice is not fully integrable. Rather, there are higher order terms stemming from the potential which are of $O(\\nu^3)$. These terms, for a tune spread of $\\nu = 0.3$ in the NL element, predict an additional \"error\" of $\\sim 3 \\%$ in the invariants.\n",
    "\n",
    "\n",
    "####Execution\n",
    "**For this notebook, we will consider a NL element with larger tune.** I will construct such an element using the IOTA madx script. I will then calculate an R-matrix which will approximate the remainder of the IOTA lattice. I will then construct an appropriately matched bunch with generalized emittance of approximately 10 mm-mrad, and I will run with for ~100 turns with 1000 macro particles.\n",
    "\n",
    "The adjusted nonlinear element has twice the length and twice the phase advance. I still constructed it with 40 slices, to maintain similar resolution to the original (20 slices per 1.8 m). It is stored in the file `nll_40slices_0pt6_tune.madx`."
   ]
  },
  {
   "cell_type": "code",
   "execution_count": 5,
   "metadata": {
    "collapsed": false
   },
   "outputs": [],
   "source": [
    "%load_ext watermark\n",
    "%load_ext autoreload\n",
    "%autoreload 2"
   ]
  },
  {
   "cell_type": "code",
   "execution_count": 6,
   "metadata": {
    "collapsed": false
   },
   "outputs": [
    {
     "name": "stdout",
     "output_type": "stream",
     "text": [
      "Nathan Cook 17/08/2015 \n",
      "\n",
      "CPython 2.7.10\n",
      "IPython 3.1.0\n"
     ]
    }
   ],
   "source": [
    "%watermark -d -v -a \"Nathan Cook\""
   ]
  },
  {
   "cell_type": "code",
   "execution_count": 7,
   "metadata": {
    "collapsed": true
   },
   "outputs": [],
   "source": [
    "import sys, os\n",
    "import synergia\n",
    "from mpi4py import MPI\n",
    "import synergia_workflow\n",
    "\n",
    "import numpy as np\n",
    "%matplotlib inline\n",
    "import matplotlib.pyplot as plt\n",
    "from base_diagnostics import read_bunch\n",
    "from base_diagnostics import workflow\n",
    "from elliptic import EllipticBeam6D\n",
    "from base_diagnostics import lfplot"
   ]
  },
  {
   "cell_type": "code",
   "execution_count": 10,
   "metadata": {
    "collapsed": true
   },
   "outputs": [],
   "source": [
    "lattice = synergia.lattice.MadX_reader().get_lattice(\"base_nll\", \"/Users/ncook/Synergia_Tests/lattices/Iota6-6/nll_40slices_0pt5_tune.madx\")\n",
    "#lattice2 = synergia.lattice.MadX_reader().get_lattice(\"iota\", \"/Users/ncook/Synergia_Tests/lattices/Iota6-6/lattice_1IO_center.madx\")\n",
    "\n",
    "\n",
    "for elem in lattice.get_elements():\n",
    "    if elem.get_type() == 'nllens':\n",
    "        elem.set_string_attribute(\"extractor_type\", \"chef_propagate\")\n",
    "\n",
    "nsteps_per_element = 10\n",
    "nsteps = len(lattice.get_elements())*nsteps_per_element\n",
    "        \n",
    "name = 'Double-tune-NLL'\n",
    "order = 1\n",
    "outputdir = 'order_'+str(order)+'_'+name\n",
    "\n",
    "opts = workflow.make_opts(name, order, outputdir, nsteps, nsteps_per_element)\n",
    "opts.macro_particles=1000\n",
    "#opts.emitx = 1.0e-5\n",
    "#workflow.make_path(outputdir)\n",
    "\n",
    "\n",
    "stepper = synergia.simulation.Independent_stepper_elements(lattice, opts.map_order, opts.steps_per_element)\n",
    "lattice_simulator = stepper.get_lattice_simulator()\n",
    "\n",
    "#stepper2 = synergia.simulation.Independent_stepper_elements(lattice2, opts.map_order, opts.steps_per_element)\n",
    "#lattice_simulator2 = stepper2.get_lattice_simulator()"
   ]
  },
  {
   "cell_type": "markdown",
   "metadata": {},
   "source": [
    "###Construct the R-matrix needed to complement the new NLL drift.\n",
    "\n",
    "The modificaiton to the drift length and tune necessitates a change in the R-matrix used to represent the remainder of the IOTA lattice (to 1st order). First, I will calculate the focal length, minimum beta function, and entrance twiss parameters for the new drift section."
   ]
  },
  {
   "cell_type": "code",
   "execution_count": 261,
   "metadata": {
    "collapsed": true
   },
   "outputs": [],
   "source": [
    "def get_base_nll(nn, l0, mu0, t, c):\n",
    "    '''Construct base drift values for the nonlinear element. Taken from madx script by A. Valishev.\n",
    "    \n",
    "    '''\n",
    "    #musect=mu0+0.5;\n",
    "    f0=l0/4.0*(1.0+1.0/np.tan(np.pi*mu0)**2); #focal length\n",
    "    betae=l0/np.sqrt(1.0-(1.0-l0/2.0/f0)**2); #entrance beta function\n",
    "    alphae=l0/2.0/f0/np.sqrt(1.0-(1.0-l0/2.0/f0)**2); #entrance alpha function\n",
    "    betas=l0*(1-l0/4.0/f0)/np.sqrt(1.0-(1.0-l0/2.0/f0)**2); #middle beta function\n",
    "    #value,f0,betae,alfae,betas;\n",
    "    \n",
    "    return [f0, betae,alphae,betas]"
   ]
  },
  {
   "cell_type": "markdown",
   "metadata": {},
   "source": [
    "A quick comparison using the old parameters (l = 1.8m and tune = 0.3) shows that we have nice agreement."
   ]
  },
  {
   "cell_type": "code",
   "execution_count": 36,
   "metadata": {
    "collapsed": false
   },
   "outputs": [
    {
     "name": "stdout",
     "output_type": "stream",
     "text": [
      "[0.68753882025018942, 1.8926320036288808, 1.3763819204711731, 0.65388827520482495]\n"
     ]
    }
   ],
   "source": [
    "old_tune = 0.3\n",
    "lnll0 = 1.8\n",
    "nseg = 40\n",
    "t = 0.4\n",
    "c = 0.01\n",
    "vals0 = get_base_nll(nseg, lnll0, old_tune, t, c)\n",
    "print vals0"
   ]
  },
  {
   "cell_type": "markdown",
   "metadata": {},
   "source": [
    "The focal length is given by $f_0 = 0.68753882025018942$, and as such the R-matrix should depict focusing with element values of $-1/f$ in the lower left element of the 2x2 matrices in x and y. We found previously a value of $-1.4545$, as expected."
   ]
  },
  {
   "cell_type": "code",
   "execution_count": 40,
   "metadata": {
    "collapsed": false
   },
   "outputs": [
    {
     "name": "stdout",
     "output_type": "stream",
     "text": [
      "[0.99501552810007565, 6.1246858201346921, 3.0776835371752562, 0.58485545321923105]\n"
     ]
    }
   ],
   "source": [
    "new_tune = 0.6\n",
    "lnll = 3.6\n",
    "nseg = 40\n",
    "t = 0.4\n",
    "c = 0.01\n",
    "vals = get_base_nll(nseg, lnll, new_tune, t, c)\n",
    "print vals"
   ]
  },
  {
   "cell_type": "markdown",
   "metadata": {},
   "source": [
    "We have agreement in twiss parameters with those that madx calculates for the new drift ($\\beta_* = 0.5849$, $\\beta_e = 6.1247$ and $\\alpha_e = 3.0777$.\n",
    "\n",
    "The new focal length is $f_0 = 0.995$, so our R-matrix has a very simple form with R ~ -1. I will include a very similar R56 component to the full IOTA lattice."
   ]
  },
  {
   "cell_type": "code",
   "execution_count": 57,
   "metadata": {
    "collapsed": false
   },
   "outputs": [
    {
     "name": "stdout",
     "output_type": "stream",
     "text": [
      "[[ 1.          0.        ]\n",
      " [-1.00500944  1.        ]]\n",
      "[[ 1.          0.        ]\n",
      " [-1.00500944  1.        ]]\n",
      "[[ 1.   3.2]\n",
      " [ 0.   1. ]]\n"
     ]
    }
   ],
   "source": [
    "from base_diagnostics import latticework\n",
    "fnew = vals[0]\n",
    "toy_R = latticework.make_R(fnew)\n",
    "print toy_R[0:2,0:2]\n",
    "print toy_R[2:4,2:4]\n",
    "print toy_R[4:6,4:6]"
   ]
  },
  {
   "cell_type": "markdown",
   "metadata": {},
   "source": [
    "###Construct the turn_end_action operator"
   ]
  },
  {
   "cell_type": "code",
   "execution_count": 58,
   "metadata": {
    "collapsed": true
   },
   "outputs": [],
   "source": [
    "class Pickle_helper:\n",
    "    __getstate_manages_dict__ = 1\n",
    "    def __init__(self, *args):\n",
    "        self.args = args\n",
    "    def __getinitargs__(self):\n",
    "        return self.args\n",
    "    def __getstate__(self):\n",
    "        return self.__dict__\n",
    "    def __setstate__(self, state):\n",
    "        self.__dict__ = state\n",
    "\n",
    "class turn_actions(synergia.simulation.Propagate_actions, Pickle_helper):\n",
    "    def __init__(self, mat):\n",
    "        synergia.simulation.Propagate_actions.__init__(self)\n",
    "        Pickle_helper.__init__(self, mat)\n",
    "        self.matrix = mat #R-matrix being imported\n",
    "    def turn_end_action(self, stepper, bunch, turn_num):\n",
    "        '''Move particles through a single drift and advance the reference particle by the drift length'''\n",
    "        \n",
    "        #define matrix\n",
    "        R_matrix = self.matrix\n",
    "        \n",
    "        particles = bunch.get_local_particles();\n",
    "        for particle in particles:\n",
    "            new_particle = np.dot(R_matrix,particle[0:6]) #This is for full 6x6 multiplication, not using currently.\n",
    "            \n",
    "            #just perform x+y-plane updates\n",
    "            #new_particle = np.zeros(6)\n",
    "            #new_particle[0:2] = np.dot(R_matrix[0:2,0:2],particle[0:2])\n",
    "            #new_particle[2:4] = np.dot(R_matrix[2:4,2:4],particle[2:4])\n",
    "            particle[0:6] = new_particle\n",
    "\n",
    "#construct the operator using our toy R matrix\n",
    "turn_action = turn_actions(toy_R)"
   ]
  },
  {
   "cell_type": "markdown",
   "metadata": {},
   "source": [
    "Construct a bunch consisting of a single test particle."
   ]
  },
  {
   "cell_type": "code",
   "execution_count": 60,
   "metadata": {
    "collapsed": true
   },
   "outputs": [],
   "source": [
    "from elliptic import EllipticBeam6D\n",
    "from elliptic import ellipticBeam\n",
    "from scipy import constants as consts\n",
    "\n",
    "gamma0 = 2.\n",
    "speciesMass = consts.m_p\n",
    "dgammaOgamma = 1.e-3\n",
    "#We want dpop no dE/E\n",
    "dpop = opts.dpop\n",
    "#Assume Gaussian longitudinal profile - put bunch length in m\n",
    "sigmaz = opts.stdz\n",
    "transverseEmittance = opts.emit_transverse\n",
    "numMacroParticles = 1\n",
    "\n",
    "t = 0.4 #fixed for IOTA 6-6 for now\n",
    "c = 0.01 #fixed for IOTA 6-6 for now\n",
    "\n",
    "#calculate beta at injection - center of NL element\n",
    "#beta = lf0.beta_x\n",
    "#betaPrime = -2*lf0.alpha_x\n",
    "beta = 0.5848554532\n",
    "betaPrime = 0.0\n",
    "\n",
    "xOffset = 0. #m\n",
    "yOffset = 0. #m\n",
    "\n",
    "# Do not modify below this line\n",
    "E0 = gamma0 * consts.m_p * consts.c**2 * 6.24150934e9 #GeV/J\n",
    "ESpread = E0 * dgammaOgamma\n",
    "\n",
    "\n",
    "#myBunchGenerator = ellipticBeam.ellipticBeam(t, c, beta, betaPrime)\n",
    "#bunch = myBunchGenerator.generateBunch(transverseEmittance, numMacroParticles)\n",
    "ref = lattice.get_reference_particle()\n",
    "bucket_length = 1\n",
    "real_particles = 1.e10\n",
    "num_total_particles = 1\n",
    "comm = synergia.utils.Commxx(True)\n",
    "myBunch = synergia.bunch.Bunch(ref,num_total_particles, real_particles, comm, bucket_length)\n",
    "\n",
    "particle = np.array([1.e-3,0.,1.e-3,0.,0.,0.,1.])\n",
    "local_particle = myBunch.get_local_particles()\n",
    "local_particle[:,:] = particle\n",
    "\n",
    "myBunch.dpop = 0"
   ]
  },
  {
   "cell_type": "code",
   "execution_count": 63,
   "metadata": {
    "collapsed": true
   },
   "outputs": [],
   "source": [
    "# Define a bunch simulator\n",
    "bunch_simulator = synergia.simulation.Bunch_simulator(myBunch)\n",
    "\n",
    "# Define a set of bunch diagnostics\n",
    "\n",
    "#basic diagnostics - PER STEP\n",
    "basicdiag = synergia.bunch.Diagnostics_basic(\"basic.h5\", opts.output_dir)\n",
    "bunch_simulator.add_per_step(basicdiag)\n",
    "\n",
    "#include full diagnostics\n",
    "fulldiag = synergia.bunch.Diagnostics_full2(\"full.h5\", opts.output_dir)\n",
    "bunch_simulator.add_per_turn(fulldiag)\n",
    "\n",
    "#tracking diagnostics - PER STEP\n",
    "diagnostics = synergia.bunch.Diagnostics_track(\"track.h5\", opts.tracked_particles, opts.output_dir)\n",
    "#Track a particle twice per turn (e.g. every ~ num_steps/2 add the diagnostic)\n",
    "bunch_simulator.add_per_step(diagnostics)\n",
    "\n",
    "#particle diagnostics - PER TURN\n",
    "particlediag = synergia.bunch.Diagnostics_particles(\"particles.h5\",0,0,opts.output_dir)\n",
    "bunch_simulator.add_per_turn(particlediag)"
   ]
  },
  {
   "cell_type": "markdown",
   "metadata": {},
   "source": [
    "Remember to invoke the turn_end_action operator when propagating!"
   ]
  },
  {
   "cell_type": "code",
   "execution_count": 64,
   "metadata": {
    "collapsed": true
   },
   "outputs": [],
   "source": [
    "opts.turns = 100\n",
    "propagator = synergia.simulation.Propagator(stepper)\n",
    "propagator.set_checkpoint_period(opts.checkpointperiod)\n",
    "propagator.propagate(bunch_simulator, turn_action,\n",
    "                     opts.turns, opts.maxturns,opts.verbosity)\n",
    "\n",
    "#clean up files\n",
    "workflow.cleanup(opts.output_dir)"
   ]
  },
  {
   "cell_type": "markdown",
   "metadata": {},
   "source": [
    "###Diagnostics\n",
    "\n",
    "To work with the combination of a short lattice segment + R-matrix, I've created adjusted functions prefixed by the word \"toy\" to denote the use of this toy model approach. These functions specify fixed twiss parametes at the location of particle extraction, rather than grabbing values from the lattice simulator."
   ]
  },
  {
   "cell_type": "code",
   "execution_count": 246,
   "metadata": {
    "collapsed": false,
    "scrolled": false
   },
   "outputs": [
    {
     "data": {
      "image/png": "[encoded data removed]",
      "text/plain": [
       "<matplotlib.figure.Figure at 0x116b7ef10>"
      ]
     },
     "metadata": {},
     "output_type": "display_data"
    }
   ],
   "source": [
    "from base_diagnostics import options\n",
    "from base_diagnostics import singleparticle\n",
    "\n",
    "popts = options.Options()\n",
    "popts.lattice_name = '1IO-Double-Tune'\n",
    "popts.ID = None\n",
    "popts.path = None\n",
    "popts.turns = 100 \n",
    "popts.norm = False\n",
    "popts.save = False\n",
    "popts.variance = 0.5\n",
    "popts.lattice_simulator = lattice_simulator\n",
    "popts.relpath = opts.output_dir\n",
    "popts.lf_fns = ['beta_x','beta_y']\n",
    "popts.lattice = lattice\n",
    "\n",
    "popts.plots = ['x','y']\n",
    "popts.num = 1\n",
    "popts.scale = 2\n",
    "popts.plot_lost = False\n",
    "\n",
    "singleparticle.toy_plot_Poincare(popts,vals)"
   ]
  },
  {
   "cell_type": "code",
   "execution_count": 254,
   "metadata": {
    "collapsed": false,
    "scrolled": false
   },
   "outputs": [
    {
     "data": {
      "image/png": "[encoded data removed]",
      "text/plain": [
       "<matplotlib.figure.Figure at 0x116096650>"
      ]
     },
     "metadata": {},
     "output_type": "display_data"
    }
   ],
   "source": [
    "from base_diagnostics import options\n",
    "from base_diagnostics import singleparticle\n",
    "\n",
    "popts = options.Options()\n",
    "popts.lattice_name = '1IO-Double-Tune'\n",
    "popts.ID = None\n",
    "popts.path = None\n",
    "popts.turns = 100 \n",
    "popts.norm = False\n",
    "popts.save = False\n",
    "popts.variance = 0.5\n",
    "popts.lattice_simulator = lattice_simulator\n",
    "popts.relpath = opts.output_dir\n",
    "popts.lf_fns = ['beta_x','beta_y']\n",
    "popts.lattice = lattice\n",
    "\n",
    "popts.plots = ['x','px']\n",
    "popts.num = 1\n",
    "popts.scale = 2\n",
    "popts.plot_lost = False\n",
    "\n",
    "singleparticle.toy_plot_Poincare(popts,vals)"
   ]
  },
  {
   "cell_type": "code",
   "execution_count": 253,
   "metadata": {
    "collapsed": false
   },
   "outputs": [
    {
     "data": {
      "image/png": "[encoded data removed]",
      "text/plain": [
       "<matplotlib.figure.Figure at 0x115fcac90>"
      ]
     },
     "metadata": {},
     "output_type": "display_data"
    }
   ],
   "source": [
    "from base_diagnostics import options\n",
    "from base_diagnostics import singleparticle\n",
    "\n",
    "popts = options.Options()\n",
    "popts.lattice_name = '1IO-Double-Tune'\n",
    "popts.ID = None\n",
    "popts.path = None\n",
    "popts.turns = 100 \n",
    "popts.norm = False\n",
    "popts.save = False\n",
    "popts.variance = 0.5\n",
    "popts.lattice_simulator = lattice_simulator\n",
    "popts.relpath = opts.output_dir\n",
    "popts.lf_fns = ['beta_x','beta_y']\n",
    "popts.lattice = lattice\n",
    "\n",
    "popts.plots = ['y','py']\n",
    "popts.num = 1\n",
    "popts.scale = 2\n",
    "popts.plot_lost = False\n",
    "\n",
    "singleparticle.toy_plot_Poincare(popts,vals)"
   ]
  },
  {
   "cell_type": "code",
   "execution_count": 255,
   "metadata": {
    "collapsed": false
   },
   "outputs": [
    {
     "data": {
      "image/png": "[encoded data removed]",
      "text/plain": [
       "<matplotlib.figure.Figure at 0x1167aec90>"
      ]
     },
     "metadata": {},
     "output_type": "display_data"
    }
   ],
   "source": [
    "#popts.lattice_simulator = stepper.get_lattice_simulator()\n",
    "popts.num = 1\n",
    "popts.ID = 0\n",
    "popts.variance = .5\n",
    "popts.save = False\n",
    "singleparticle.toy_plot_elliptic_Invariant(popts, vals)\n",
    "#singleparticle.plot_H_I(popts)"
   ]
  },
  {
   "cell_type": "code",
   "execution_count": 256,
   "metadata": {
    "collapsed": false
   },
   "outputs": [],
   "source": [
    "popts.macro_particles = opts.macro_particles\n",
    "hArray = singleparticle.toy_calc_elliptic_Invariant(popts, vals)\n",
    "#singleparticle.stats_Invariant(hArray,popts)"
   ]
  },
  {
   "cell_type": "code",
   "execution_count": 257,
   "metadata": {
    "collapsed": false
   },
   "outputs": [
    {
     "name": "stdout",
     "output_type": "stream",
     "text": [
      "H std: 8.38071004336\n",
      "I std: 11.5793050599\n"
     ]
    }
   ],
   "source": [
    "hvals = hArray[::,0]\n",
    "ivals = hArray[::,1]\n",
    "\n",
    "hmean = np.mean(hvals)\n",
    "imean = np.mean(ivals)\n",
    "\n",
    "hstd = (np.std(hvals)/hmean)*100\n",
    "istd = (np.std(ivals)/imean)*100\n",
    "\n",
    "print \"H std: \" + str(hstd)\n",
    "print \"I std: \" + str(istd)"
   ]
  },
  {
   "cell_type": "markdown",
   "metadata": {},
   "source": [
    "It looks liike the variation has increased, as expected! A key point of emphasis is that this variation exists even for a test particle with low generalized emittance! That is, the reduction in preservation of the invariants with increasing particle amplitude which I noted in the last notebook is not a factor here, and we may conclude that it is a separate effect from the tune-dependence. Nonetheless,we still need to re-run this toy model with a matched bunch of larger generalized emittance to test a more realistic bunch."
   ]
  },
  {
   "cell_type": "markdown",
   "metadata": {},
   "source": [
    "###Can be ignored - A quick double check with streamlined methods."
   ]
  },
  {
   "cell_type": "code",
   "execution_count": 258,
   "metadata": {
    "collapsed": false
   },
   "outputs": [],
   "source": [
    "files = singleparticle.get_file_list(popts)\n",
    "twiss = singleparticle.get_toy_twiss(vals, popts.lattice)\n",
    "\n",
    "normalc = []\n",
    "#t2 = twiss[:-1,:]\n",
    "for inputfile in files:\n",
    "    header, particles = singleparticle.get_particles(inputfile)\n",
    "    norm_coords = singleparticle.normalized_coordinates(header, particles, twiss).flatten()\n",
    "    normalc.append(norm_coords)\n",
    "normalized = np.asarray(normalc)\n",
    "\n",
    "xs = normalized[::,0]\n",
    "xps = normalized[::,1]\n",
    "ys = normalized[::,2]\n",
    "yps = normalized[::,3]\n",
    "\n",
    "popts.t = 0.4\n",
    "popts.c = 0.01\n",
    "u,v = singleparticle.elliptic_coordinates(normalized, popts)\n",
    "hvals = singleparticle.single_particle_hamiltonian(normalized) + singleparticle.elliptic_hamiltonian(u,v,popts)"
   ]
  },
  {
   "cell_type": "code",
   "execution_count": 259,
   "metadata": {
    "collapsed": false
   },
   "outputs": [
    {
     "data": {
      "text/plain": [
       "<matplotlib.collections.PathCollection at 0x1187103d0>"
      ]
     },
     "execution_count": 259,
     "metadata": {},
     "output_type": "execute_result"
    },
    {
     "data": {
      "image/png": "[encoded data removed]",
      "text/plain": [
       "<matplotlib.figure.Figure at 0x1167d57d0>"
      ]
     },
     "metadata": {},
     "output_type": "display_data"
    }
   ],
   "source": [
    "plt.scatter(ss, hvals*1.e6)"
   ]
  },
  {
   "cell_type": "markdown",
   "metadata": {},
   "source": [
    "We appear to have consistent behavior. I will tentatively trust my adjusted \"toy\" scripts."
   ]
  }
 ],
 "metadata": {
  "kernelspec": {
   "display_name": "Python 2",
   "language": "python",
   "name": "python2"
  },
  "language_info": {
   "codemirror_mode": {
    "name": "ipython",
    "version": 2
   },
   "file_extension": ".py",
   "mimetype": "text/x-python",
   "name": "python",
   "nbconvert_exporter": "python",
   "pygments_lexer": "ipython2",
   "version": "2.7.10"
  }
 },
 "nbformat": 4,
 "nbformat_minor": 0
}
