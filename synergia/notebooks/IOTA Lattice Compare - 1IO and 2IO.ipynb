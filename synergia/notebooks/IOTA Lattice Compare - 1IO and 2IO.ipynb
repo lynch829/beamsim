{
 "cells": [
  {
   "cell_type": "markdown",
   "metadata": {},
   "source": [
    "#IOTA Lattice Compare - 1IO and 2IO\n",
    "\n",
    "I took at look at the R-matrices as well as the lattice elements within the 1IO and 2IO lattices, and decided to put them in this notebook. I may add on to it in the future to keep track of lattice functions, tunes, etc. in case of future need."
   ]
  },
  {
   "cell_type": "code",
   "execution_count": 1,
   "metadata": {
    "collapsed": true
   },
   "outputs": [],
   "source": [
    "%load_ext watermark\n",
    "%load_ext autoreload\n",
    "%autoreload 2"
   ]
  },
  {
   "cell_type": "code",
   "execution_count": 2,
   "metadata": {
    "collapsed": false
   },
   "outputs": [
    {
     "name": "stdout",
     "output_type": "stream",
     "text": [
      "Nathan Cook 13/08/2015 \n",
      "\n",
      "CPython 2.7.10\n",
      "IPython 3.1.0\n"
     ]
    }
   ],
   "source": [
    "%watermark -d -v -a \"Nathan Cook\""
   ]
  },
  {
   "cell_type": "code",
   "execution_count": 2,
   "metadata": {
    "collapsed": true
   },
   "outputs": [],
   "source": [
    "import sys, os\n",
    "import synergia\n",
    "from mpi4py import MPI\n",
    "import synergia_workflow\n",
    "\n",
    "import numpy as np\n",
    "%matplotlib inline\n",
    "import matplotlib.pyplot as plt\n",
    "from base_diagnostics import read_bunch\n",
    "from base_diagnostics import workflow\n",
    "from elliptic import EllipticBeam6D\n",
    "from base_diagnostics import lfplot"
   ]
  },
  {
   "cell_type": "markdown",
   "metadata": {},
   "source": [
    "##Construct the R-matrix from the remainder of the IOTA lattice 1IO"
   ]
  },
  {
   "cell_type": "code",
   "execution_count": 17,
   "metadata": {
    "collapsed": false
   },
   "outputs": [
    {
     "name": "stdout",
     "output_type": "stream",
     "text": [
      "Full R-Matrix:\n",
      "\n",
      "[[  1.00003870e+00  -4.03555423e-05   0.00000000e+00   0.00000000e+00\n",
      "    0.00000000e+00   1.79732356e-06]\n",
      " [ -1.45446722e+00   1.00001999e+00   0.00000000e+00   0.00000000e+00\n",
      "    0.00000000e+00   5.65792130e-05]\n",
      " [  0.00000000e+00   0.00000000e+00   9.99949439e-01   6.06364824e-05\n",
      "    0.00000000e+00   0.00000000e+00]\n",
      " [  0.00000000e+00   0.00000000e+00  -1.45447389e+00   9.99962365e-01\n",
      "    0.00000000e+00   0.00000000e+00]\n",
      " [  5.91958922e-05  -1.79965313e-06   0.00000000e+00   0.00000000e+00\n",
      "    1.00000000e+00   3.21622715e+00]\n",
      " [  0.00000000e+00   0.00000000e+00   0.00000000e+00   0.00000000e+00\n",
      "    0.00000000e+00   1.00000000e+00]]\n",
      "\n",
      "X component 2x2:\n",
      "\n",
      "[[  1.00003870e+00  -4.03555423e-05]\n",
      " [ -1.45446722e+00   1.00001999e+00]]\n",
      "\n",
      "Y component 2x2:\n",
      "\n",
      "[[  9.99949439e-01   6.06364824e-05]\n",
      " [ -1.45447389e+00   9.99962365e-01]]\n",
      "\n",
      "t-p component\n",
      "\n",
      "[[ 1.          3.21622715]\n",
      " [ 0.          1.        ]]\n"
     ]
    }
   ],
   "source": [
    "lattice = synergia.lattice.MadX_reader().get_lattice(\"iota\",\"/Users/ncook/Synergia_Tests/lattices/Iota6-6/lattice_1IO_bare.madx\")\n",
    "lattice1IO = lattice\n",
    "\n",
    "#10 steps per element\n",
    "nsteps_per_element = 10\n",
    "nsteps = len(lattice.get_elements())*nsteps_per_element\n",
    "        \n",
    "name = 'iota_bare'\n",
    "order = 1\n",
    "outputdir = 'order_'+str(order)+'_'+name\n",
    "opts = workflow.make_opts(name, order, outputdir, nsteps, nsteps_per_element)\n",
    "\n",
    "#need to construct stepper prior to lattice simulator to generate appropriate number of slices\n",
    "stepper = synergia.simulation.Independent_stepper_elements(lattice, opts.map_order, opts.steps_per_element)\n",
    "lattice_simulator = stepper.get_lattice_simulator()\n",
    "\n",
    "#construct R-matrix from one-turn-map\n",
    "bare_otm = lattice_simulator.get_linear_one_turn_map()\n",
    "OTM = np.copy(bare_otm) #make a copy to pass to turn_end_action object\n",
    "OTM_x = bare_OTM[0:2,0:2]\n",
    "OTM_y = bare_OTM[2:4,2:4]\n",
    "\n",
    "print 'Full R-Matrix:'\n",
    "print\n",
    "print OTM\n",
    "print\n",
    "print 'X component 2x2:'\n",
    "print\n",
    "print OTM_x\n",
    "print\n",
    "print 'Y component 2x2:'\n",
    "print\n",
    "print OTM_y\n",
    "print\n",
    "print 't-p component'\n",
    "print\n",
    "print OTM[4:6,4:6]"
   ]
  },
  {
   "cell_type": "markdown",
   "metadata": {},
   "source": [
    "##Construct the R-matrix from the remainder of the IOTA lattice 2IO"
   ]
  },
  {
   "cell_type": "code",
   "execution_count": 19,
   "metadata": {
    "collapsed": false
   },
   "outputs": [
    {
     "name": "stdout",
     "output_type": "stream",
     "text": [
      "Full R-Matrix:\n",
      "\n",
      "[[  1.61802641e+00  -1.80000361e+00   0.00000000e+00   0.00000000e+00\n",
      "    0.00000000e+00   4.97556637e-07]\n",
      " [ -8.98881037e-01   1.61801383e+00   0.00000000e+00   0.00000000e+00\n",
      "    0.00000000e+00   5.76430934e-05]\n",
      " [  0.00000000e+00   0.00000000e+00   1.61803434e+00  -1.79997941e+00\n",
      "    0.00000000e+00   0.00000000e+00]\n",
      " [  0.00000000e+00   0.00000000e+00  -8.98980198e-01   1.61810277e+00\n",
      "    0.00000000e+00   0.00000000e+00]\n",
      " [  9.37158318e-05  -1.04563432e-04   0.00000000e+00   0.00000000e+00\n",
      "    1.00000000e+00   2.70329283e+00]\n",
      " [  0.00000000e+00   0.00000000e+00   0.00000000e+00   0.00000000e+00\n",
      "    0.00000000e+00   1.00000000e+00]]\n",
      "\n",
      "X component 2x2:\n",
      "\n",
      "[[  1.00003870e+00  -4.03555423e-05]\n",
      " [ -1.45446722e+00   1.00001999e+00]]\n",
      "\n",
      "Y component 2x2:\n",
      "\n",
      "[[  9.99949439e-01   6.06364824e-05]\n",
      " [ -1.45447389e+00   9.99962365e-01]]\n",
      "\n",
      "t-p component\n",
      "\n",
      "[[ 1.          2.70329283]\n",
      " [ 0.          1.        ]]\n"
     ]
    }
   ],
   "source": [
    "lattice = synergia.lattice.MadX_reader().get_lattice(\"iota\",\"/Users/ncook/Synergia_Tests/lattices/Iota6-6/lattice_2IO_bare.madx\")\n",
    "lattice2IO = lattice\n",
    "#10 steps per element\n",
    "nsteps_per_element = 10\n",
    "nsteps = len(lattice.get_elements())*nsteps_per_element\n",
    "        \n",
    "name = 'iota_bare'\n",
    "order = 1\n",
    "outputdir = 'order_'+str(order)+'_'+name\n",
    "opts = workflow.make_opts(name, order, outputdir, nsteps, nsteps_per_element)\n",
    "\n",
    "#need to construct stepper prior to lattice simulator to generate appropriate number of slices\n",
    "stepper = synergia.simulation.Independent_stepper_elements(lattice, opts.map_order, opts.steps_per_element)\n",
    "lattice_simulator = stepper.get_lattice_simulator()\n",
    "\n",
    "#construct R-matrix from one-turn-map\n",
    "bare_otm = lattice_simulator.get_linear_one_turn_map()\n",
    "OTM = np.copy(bare_otm) #make a copy to pass to turn_end_action object\n",
    "OTM_x = bare_OTM[0:2,0:2]\n",
    "OTM_y = bare_OTM[2:4,2:4]\n",
    "\n",
    "print 'Full R-Matrix:'\n",
    "print\n",
    "print OTM\n",
    "print\n",
    "print 'X component 2x2:'\n",
    "print\n",
    "print OTM_x\n",
    "print\n",
    "print 'Y component 2x2:'\n",
    "print\n",
    "print OTM_y\n",
    "print\n",
    "print 't-p component'\n",
    "print\n",
    "print OTM[4:6,4:6]"
   ]
  },
  {
   "cell_type": "code",
   "execution_count": 35,
   "metadata": {
    "collapsed": false
   },
   "outputs": [
    {
     "name": "stdout",
     "output_type": "stream",
     "text": [
      "Variation in element double attribute: k1 for element type quadrupole\n",
      "1IO element qmb4r has value -8.072427002\n",
      "2IO element qmb4r  has value -8.172122694\n",
      "Variation in element double attribute: k1 for element type quadrupole\n",
      "1IO element qmb5r has value 14.26726775\n",
      "2IO element qmb5r  has value 13.8013101\n",
      "Variation in element double attribute: k1 for element type quadrupole\n",
      "1IO element qmb6r has value -11.88415788\n",
      "2IO element qmb6r  has value -11.85115505\n",
      "Variation in element double attribute: k1 for element type quadrupole\n",
      "1IO element qmc1r has value -13.14610552\n",
      "2IO element qmc1r  has value -12.76280335\n",
      "Variation in element double attribute: k1 for element type quadrupole\n",
      "1IO element qmc2r has value 11.98348508\n",
      "2IO element qmc2r  has value 12.05684862\n",
      "Variation in element double attribute: k1 for element type quadrupole\n",
      "1IO element qmc3r has value -13.62421938\n",
      "2IO element qmc3r  has value -13.43833468\n",
      "Variation in element double attribute: k1 for element type quadrupole\n",
      "1IO element qmd1r has value -6.650112158\n",
      "2IO element qmd1r  has value -6.209442939\n",
      "Variation in element double attribute: k1 for element type quadrupole\n",
      "1IO element qmd2r has value 4.609889982\n",
      "2IO element qmd2r  has value 4.489724127\n",
      "Variation in element double attribute: k1 for element type quadrupole\n",
      "1IO element qmd3r has value -5.647016383\n",
      "2IO element qmd3r  has value -5.055287835\n",
      "Variation in element double attribute: k1 for element type quadrupole\n",
      "1IO element qmd4r has value 5.637104976\n",
      "2IO element qmd4r  has value 5.37999797\n",
      "Variation in element double attribute: k1 for element type quadrupole\n",
      "1IO element qme1r has value -4.975556379\n",
      "2IO element qme1r  has value -4.478888505\n",
      "Variation in element double attribute: k1 for element type quadrupole\n",
      "1IO element qme2r has value 5.442378487\n",
      "2IO element qme2r  has value 5.03614623\n",
      "Variation in element double attribute: k1 for element type quadrupole\n",
      "1IO element qme3 has value -6.771164383\n",
      "2IO element qme3  has value -6.508884562\n",
      "Variation in element double attribute: k1 for element type quadrupole\n",
      "1IO element qme2l has value 5.442378487\n",
      "2IO element qme2l  has value 5.03614623\n",
      "Variation in element double attribute: k1 for element type quadrupole\n",
      "1IO element qme1l has value -4.975556379\n",
      "2IO element qme1l  has value -4.478888505\n",
      "Variation in element double attribute: k1 for element type quadrupole\n",
      "1IO element qmd4l has value 5.637104976\n",
      "2IO element qmd4l  has value 5.37999797\n",
      "Variation in element double attribute: k1 for element type quadrupole\n",
      "1IO element qmd3l has value -5.647016383\n",
      "2IO element qmd3l  has value -5.055287835\n",
      "Variation in element double attribute: k1 for element type quadrupole\n",
      "1IO element qmd2l has value 4.609889982\n",
      "2IO element qmd2l  has value 4.489724127\n",
      "Variation in element double attribute: k1 for element type quadrupole\n",
      "1IO element qmd1l has value -6.650112158\n",
      "2IO element qmd1l  has value -6.209442939\n",
      "Variation in element double attribute: k1 for element type quadrupole\n",
      "1IO element qmc3l has value -13.62421938\n",
      "2IO element qmc3l  has value -13.43833468\n",
      "Variation in element double attribute: k1 for element type quadrupole\n",
      "1IO element qmc2l has value 11.98348508\n",
      "2IO element qmc2l  has value 12.05684862\n",
      "Variation in element double attribute: k1 for element type quadrupole\n",
      "1IO element qmc1l has value -13.14610552\n",
      "2IO element qmc1l  has value -12.76280335\n",
      "Variation in element double attribute: k1 for element type quadrupole\n",
      "1IO element qmb6l has value -11.88415788\n",
      "2IO element qmb6l  has value -11.85115505\n",
      "Variation in element double attribute: k1 for element type quadrupole\n",
      "1IO element qmb5l has value 14.26726775\n",
      "2IO element qmb5l  has value 13.8013101\n",
      "Variation in element double attribute: k1 for element type quadrupole\n",
      "1IO element qmb4l has value -8.072427002\n",
      "2IO element qmb4l  has value -8.172122694\n"
     ]
    }
   ],
   "source": [
    "elems1IO = lattice1IO.get_elements()\n",
    "elems2IO = lattice2IO.get_elements()\n",
    "\n",
    "for index, elem in enumerate(elems1IO):\n",
    "    elem2 = elems2IO[index]\n",
    "    if elem.get_type() == elem2.get_type(): #check type\n",
    "        da1 = elem.get_double_attributes()\n",
    "        da2 = elem2.get_double_attributes()\n",
    "        if da1.keys() == da2.keys(): #check double attribute keys\n",
    "            for key in da1.keys(): #check double attribute values\n",
    "                if not da1[key] == da2[key]:\n",
    "                    print 'Variation in element double attribute: ' + str(key) + ' for element type ' + elem.get_type()\n",
    "                    print '1IO element ' + str(elem.get_name()) + ' has value ' + str(da1[key])\n",
    "                    print '2IO element ' + str(elem2.get_name()) + '  has value ' + str(da2[key])\n",
    "        else:\n",
    "            print 'Variation in element double attribute keys at element index' + str(index) + ' and element type ' + elem.get_type()\n",
    "            print '1IO element ' + str(elem.get_name()) + ' has double attributes ' + str([key for key in da1.keys])\n",
    "            print '2IO element ' + str(elem2.get_name()) + '  has double attribues ' + str([key for key in da2.keys])\n",
    "    else:\n",
    "        print 'Variation in element type at element index' + str(index)\n",
    "        print '1IO element ' + str(elem.get_name()) + ' has type ' + elem.get_type()\n",
    "        print '2IO element ' + str(elem2.get_name()) + ' has type ' + elem2.get_type()"
   ]
  }
 ],
 "metadata": {
  "kernelspec": {
   "display_name": "Python 2",
   "language": "python",
   "name": "python2"
  },
  "language_info": {
   "codemirror_mode": {
    "name": "ipython",
    "version": 2
   },
   "file_extension": ".py",
   "mimetype": "text/x-python",
   "name": "python",
   "nbconvert_exporter": "python",
   "pygments_lexer": "ipython2",
   "version": "2.7.10"
  }
 },
 "nbformat": 4,
 "nbformat_minor": 0
}
