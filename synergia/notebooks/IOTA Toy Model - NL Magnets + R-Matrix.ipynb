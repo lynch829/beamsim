{
 "cells": [
  {
   "cell_type": "markdown",
   "metadata": {},
   "source": [
    "#IOTA Toy Model Test of Invariants through NL Magnets\n",
    "\n",
    "\n",
    "In an attempt to obtain a good working point for the IOTA lattice, which conserves the 1st and 2nd invariants, I have constructed a toy lattice. The lattice consists of the nonlinear magnets as described by the IOTA 6-6 madx files, followed by a simple R-matrix constructed from the remainder of the IOTA lattice. I have propagated a single particle through this lattice and present the calculated invariants. See below for an itemized summary.\n",
    "\n",
    "###Summary\n",
    "\n",
    "1. Construct R-matrix from the composition of elements in the `lattice_1IO.seq` sequence, which has been modified to begin at the end of the nonlinear element and end at the beginning of the nonlinear element. \n",
    "    - The modified sequence can be found in `lattices/Iota6-6/lattice_1IO_bare.madx`.\n",
    "    - The R-matrix is constructed by first creating a lattice_simulator and then calling `lattice_simulator.get_linear_one_turn_map()`. The resulting lattice agrees with the code I wrote to grab each individiual linear map and multiply them together.\n",
    "2. Create the `turn_end_action` object. The object takes the particle coordinates from the bunch, and multiplies them by the R-matrix. **For the original test, only the x and y 2x2 components are considered**. Dispersive (column 6) elements are ignored.\n",
    "3. Load the IOTA nonlinear element into synergia as the simulation lattice. The file for this is `IOTA_nll.madx`. \n",
    "    - The lattice is first ammended to add the `chef_propagate` attribute to each nonlinear component, while individual drifts are kept linear. \n",
    "    - From this, the lattice_simulator and stepper are constructed. 10 steps per element are used.\n",
    "4. Construct the bunch, stepper, diagnostics, and propagator. Run the simulation, outputing particle diagnostics at the end of each turn (thus at the beginning of the nonlinear drift, rather than at the middle.\n",
    "5. In order to compute the invariants, the particle coordinates must be normalized. The `lattice_1IO.madx` file is used to compute the beta functions for the base lattice. \n",
    "    - Due to the s-coordinate discrepancy between this lattice and the `IOTA_nll` file used for propagation, an offset is computed to adjust how the beta functions are determined when running `singleparticle.normalized_coordinates()`. See my `singleparticle` script within the `base_diagnostics` module for details.\n",
    "    - For this lattice, the offset is 4.911519143 m , the starting point of the first nonlinear magnet in the original lattice file.\n",
    "6. The invariants are then computed, with the elliptic coordinate `c` being normalized by the beta function at the center of the drift ( $\\beta = 0.6538$ ).\n",
    "\n",
    "####Lattice Files Needed\n",
    "    - `lattice_1IO_bare.madx` - The IOTA sequence starting with the end of the nonlinear element and ending at the beginning of the nonlinear element.\n",
    "    - `IOTA_nll.madx` - A sequence consisting just of the NL element.\n",
    "    - `lattice_1IO.madx` - The base IOTA lattice with no NL elements or sextupoles. This lattice is used for computing twiss functions through the NL drift, which are then used for normalization.\n"
   ]
  },
  {
   "cell_type": "code",
   "execution_count": 1,
   "metadata": {
    "collapsed": true
   },
   "outputs": [],
   "source": [
    "%load_ext watermark\n",
    "%load_ext autoreload\n",
    "%autoreload 2"
   ]
  },
  {
   "cell_type": "code",
   "execution_count": 3,
   "metadata": {
    "collapsed": false
   },
   "outputs": [
    {
     "name": "stdout",
     "output_type": "stream",
     "text": [
      "Nathan Cook 13/08/2015 \n",
      "\n",
      "CPython 2.7.10\n",
      "IPython 3.1.0\n"
     ]
    }
   ],
   "source": [
    "%watermark -d -v -a \"Nathan Cook\""
   ]
  },
  {
   "cell_type": "code",
   "execution_count": 2,
   "metadata": {
    "collapsed": true
   },
   "outputs": [],
   "source": [
    "import sys, os\n",
    "import synergia\n",
    "from mpi4py import MPI\n",
    "import synergia_workflow\n",
    "\n",
    "import numpy as np\n",
    "%matplotlib inline\n",
    "import matplotlib.pyplot as plt\n",
    "from base_diagnostics import read_bunch\n",
    "from base_diagnostics import workflow\n",
    "from elliptic import EllipticBeam6D\n",
    "from base_diagnostics import lfplot"
   ]
  },
  {
   "cell_type": "markdown",
   "metadata": {},
   "source": [
    "##Construct the R-matrix from the remainder of the IOTA lattice"
   ]
  },
  {
   "cell_type": "code",
   "execution_count": 36,
   "metadata": {
    "collapsed": false
   },
   "outputs": [
    {
     "name": "stdout",
     "output_type": "stream",
     "text": [
      "Full R-Matrix:\n",
      "\n",
      "[[  1.00003870e+00  -4.03555423e-05   0.00000000e+00   0.00000000e+00\n",
      "    0.00000000e+00   1.79732356e-06]\n",
      " [ -1.45446722e+00   1.00001999e+00   0.00000000e+00   0.00000000e+00\n",
      "    0.00000000e+00   5.65792130e-05]\n",
      " [  0.00000000e+00   0.00000000e+00   9.99949439e-01   6.06364824e-05\n",
      "    0.00000000e+00   0.00000000e+00]\n",
      " [  0.00000000e+00   0.00000000e+00  -1.45447389e+00   9.99962365e-01\n",
      "    0.00000000e+00   0.00000000e+00]\n",
      " [  5.91958922e-05  -1.79965313e-06   0.00000000e+00   0.00000000e+00\n",
      "    1.00000000e+00   3.21622715e+00]\n",
      " [  0.00000000e+00   0.00000000e+00   0.00000000e+00   0.00000000e+00\n",
      "    0.00000000e+00   1.00000000e+00]]\n",
      "\n",
      "X component 2x2:\n",
      "\n",
      "[[  1.00003870e+00  -4.03555423e-05]\n",
      " [ -1.45446722e+00   1.00001999e+00]]\n",
      "\n",
      "Y component 2x2:\n",
      "\n",
      "[[  9.99949439e-01   6.06364824e-05]\n",
      " [ -1.45447389e+00   9.99962365e-01]]\n",
      "\n",
      "t-p component\n",
      "\n",
      "[[ 1.          3.21622715]\n",
      " [ 0.          1.        ]]\n"
     ]
    }
   ],
   "source": [
    "lattice = synergia.lattice.MadX_reader().get_lattice(\"iota\",\"/Users/ncook/Synergia_Tests/lattices/Iota6-6/lattice_1IO_bare.madx\")\n",
    "\n",
    "#10 steps per element\n",
    "nsteps_per_element = 10\n",
    "nsteps = len(lattice.get_elements())*nsteps_per_element\n",
    "        \n",
    "name = 'iota_bare'\n",
    "order = 1\n",
    "outputdir = 'order_'+str(order)+'_'+name\n",
    "opts = workflow.make_opts(name, order, outputdir, nsteps, nsteps_per_element)\n",
    "\n",
    "#need to construct stepper prior to lattice simulator to generate appropriate number of slices\n",
    "stepper = synergia.simulation.Independent_stepper_elements(lattice, opts.map_order, opts.steps_per_element)\n",
    "lattice_simulator = stepper.get_lattice_simulator()\n",
    "\n",
    "#construct R-matrix from one-turn-map\n",
    "bare_otm = lattice_simulator.get_linear_one_turn_map()\n",
    "OTM = np.copy(bare_otm) #make a copy to pass to turn_end_action object\n",
    "OTM_x = bare_OTM[0:2,0:2]\n",
    "OTM_y = bare_OTM[2:4,2:4]\n",
    "\n",
    "print 'Full R-Matrix:'\n",
    "print\n",
    "print OTM\n",
    "print\n",
    "print 'X component 2x2:'\n",
    "print\n",
    "print OTM_x\n",
    "print\n",
    "print 'Y component 2x2:'\n",
    "print\n",
    "print OTM_y\n",
    "print\n",
    "print 't-p component'\n",
    "print\n",
    "print OTM[4:6,4:6]"
   ]
  },
  {
   "cell_type": "markdown",
   "metadata": {},
   "source": [
    "##Construct the `turn_end_action` operator"
   ]
  },
  {
   "cell_type": "code",
   "execution_count": 38,
   "metadata": {
    "collapsed": true
   },
   "outputs": [],
   "source": [
    "class Pickle_helper:\n",
    "    __getstate_manages_dict__ = 1\n",
    "    def __init__(self, *args):\n",
    "        self.args = args\n",
    "    def __getinitargs__(self):\n",
    "        return self.args\n",
    "    def __getstate__(self):\n",
    "        return self.__dict__\n",
    "    def __setstate__(self, state):\n",
    "        self.__dict__ = state\n",
    "\n",
    "class turn_actions(synergia.simulation.Propagate_actions, Pickle_helper):\n",
    "    def __init__(self, mat):\n",
    "        synergia.simulation.Propagate_actions.__init__(self)\n",
    "        Pickle_helper.__init__(self, mat)\n",
    "        self.matrix = mat #R-matrix being imported\n",
    "    def turn_end_action(self, stepper, bunch, turn_num):\n",
    "        '''Move particles through a single drift and advance the reference particle by the drift length'''\n",
    "        \n",
    "        #define matrix\n",
    "        R_matrix = self.matrix\n",
    "        \n",
    "        particles = bunch.get_local_particles();\n",
    "        for particle in particles:\n",
    "            #new_particle = np.dot(R_matrix,particle[0:6]) #This is for full 6x6 multiplication, not using currently.\n",
    "            \n",
    "            #just perform x+y-plane updates\n",
    "            new_particle = np.zeros(6)\n",
    "            new_particle[0:2] = np.dot(R_matrix[0:2,0:2],particle[0:2])\n",
    "            new_particle[2:4] = np.dot(R_matrix[2:4,2:4],particle[2:4])\n",
    "            particle[0:6] = new_particle\n",
    "            \n",
    "turn_action = turn_actions(OTM)"
   ]
  },
  {
   "cell_type": "markdown",
   "metadata": {},
   "source": [
    "##Load the NLL element and construct the simulation stepper"
   ]
  },
  {
   "cell_type": "code",
   "execution_count": 40,
   "metadata": {
    "collapsed": true
   },
   "outputs": [],
   "source": [
    "lattice = synergia.lattice.MadX_reader().get_lattice(\"onlynll\", \"/Users/ncook/Synergia_Tests/lattices/Iota6-6/IOTA_nll.madx\")\n",
    "\n",
    "for elem in lattice.get_elements():\n",
    "    if elem.get_type() == 'nllens':\n",
    "        elem.set_string_attribute(\"extractor_type\", \"chef_propagate\")\n",
    "\n",
    "nsteps_per_element = 10\n",
    "nsteps = len(lattice.get_elements())*nsteps_per_element\n",
    "        \n",
    "name = '1IO_nll_TURN_END'\n",
    "order = 1\n",
    "outputdir = 'order_'+str(order)+'_'+name\n",
    "\n",
    "opts = workflow.make_opts(name, order, outputdir, nsteps, nsteps_per_element)\n",
    "opts.macro_particles=1000\n",
    "#opts.emitx = 1.0e-5\n",
    "workflow.make_path(outputdir)"
   ]
  },
  {
   "cell_type": "markdown",
   "metadata": {},
   "source": [
    "##Construct the bunch, stepper, diagnostics, and propagator. Run the simulation"
   ]
  },
  {
   "cell_type": "markdown",
   "metadata": {},
   "source": [
    "We are only simulating a single particle for now."
   ]
  },
  {
   "cell_type": "code",
   "execution_count": 41,
   "metadata": {
    "collapsed": true
   },
   "outputs": [],
   "source": [
    "from elliptic import EllipticBeam6D\n",
    "from elliptic import ellipticBeam\n",
    "from scipy import constants as consts\n",
    "\n",
    "gamma0 = 2.\n",
    "speciesMass = consts.m_p\n",
    "dgammaOgamma = 1.e-3\n",
    "#We want dpop no dE/E\n",
    "dpop = opts.dpop\n",
    "#Assume Gaussian longitudinal profile - put bunch length in m\n",
    "sigmaz = opts.stdz\n",
    "#*consts.c\n",
    "#bunchLength = sigmaz #sec\n",
    "#transverseEmittance = 1.e-5 #m-rad\n",
    "transverseEmittance = opts.emit_transverse\n",
    "numMacroParticles = 1\n",
    "\n",
    "#lattice = opts.lattice\n",
    "\n",
    "\n",
    "#t = 0.45\n",
    "#c = 0.0095\n",
    "t = 0.4 #fixed for IOTA 6-6 for now\n",
    "c = 0.01 #fixed for IOTA 6-6 for now\n",
    "#beta = 0.7\n",
    "#betaPrime = 0.\n",
    "\n",
    "#calculate beta at injection - center of NL element\n",
    "#beta = lf0.beta_x\n",
    "#betaPrime = -2*lf0.alpha_x\n",
    "beta = 0.6538\n",
    "#betaPrime = 0.0002\n",
    "betaPrime = 0.0\n",
    "\n",
    "xOffset = 0. #m\n",
    "yOffset = 0. #m\n",
    "\n",
    "# Do not modify below this line\n",
    "E0 = gamma0 * consts.m_p * consts.c**2 * 6.24150934e9 #GeV/J\n",
    "ESpread = E0 * dgammaOgamma\n",
    "\n",
    "\n",
    "#myBunchGenerator = ellipticBeam.ellipticBeam(t, c, beta, betaPrime)\n",
    "#bunch = myBunchGenerator.generateBunch(transverseEmittance, numMacroParticles)\n",
    "ref = lattice.get_reference_particle()\n",
    "bucket_length = 1\n",
    "real_particles = 1.e10\n",
    "num_total_particles = 1\n",
    "comm = synergia.utils.Commxx(True)\n",
    "myBunch = synergia.bunch.Bunch(ref,num_total_particles, real_particles, comm, bucket_length)\n",
    "\n",
    "particle = np.array([1.e-3,0.,1.e-3,0.,0.,0.,1.])\n",
    "local_particle = myBunch.get_local_particles()\n",
    "local_particle[:,:] = particle\n",
    "\n",
    "myBunch.dpop = 0"
   ]
  },
  {
   "cell_type": "code",
   "execution_count": 42,
   "metadata": {
    "collapsed": true
   },
   "outputs": [],
   "source": [
    "stepper = synergia.simulation.Independent_stepper_elements(lattice, opts.map_order, opts.steps_per_element)\n",
    "\n",
    "lattice_simulator = stepper.get_lattice_simulator()\n",
    "\n",
    "# Define a bunch simulator\n",
    "bunch_simulator = synergia.simulation.Bunch_simulator(myBunch)\n",
    "\n",
    "# Define a set of bunch diagnostics\n",
    "\n",
    "#basic diagnostics - PER STEP\n",
    "basicdiag = synergia.bunch.Diagnostics_basic(\"basic.h5\", opts.output_dir)\n",
    "bunch_simulator.add_per_step(basicdiag)\n",
    "\n",
    "#include full diagnostics\n",
    "fulldiag = synergia.bunch.Diagnostics_full2(\"full.h5\", opts.output_dir)\n",
    "bunch_simulator.add_per_turn(fulldiag)\n",
    "\n",
    "#tracking diagnostics - PER STEP\n",
    "diagnostics = synergia.bunch.Diagnostics_track(\"track.h5\", opts.tracked_particles, opts.output_dir)\n",
    "#Track a particle twice per turn (e.g. every ~ num_steps/2 add the diagnostic)\n",
    "bunch_simulator.add_per_step(diagnostics)\n",
    "\n",
    "#particle diagnostics - PER TURN\n",
    "particlediag = synergia.bunch.Diagnostics_particles(\"particles.h5\",0,0,opts.output_dir)\n",
    "bunch_simulator.add_per_turn(particlediag)"
   ]
  },
  {
   "cell_type": "markdown",
   "metadata": {},
   "source": [
    "Now run the simulation"
   ]
  },
  {
   "cell_type": "code",
   "execution_count": 43,
   "metadata": {
    "collapsed": true
   },
   "outputs": [],
   "source": [
    "opts.turns = 100\n",
    "propagator = synergia.simulation.Propagator(stepper)\n",
    "propagator.set_checkpoint_period(opts.checkpointperiod)\n",
    "propagator.propagate(bunch_simulator, turn_action,\n",
    "                     opts.turns, opts.maxturns,opts.verbosity)\n",
    "\n",
    "#clean up files\n",
    "workflow.cleanup(opts.output_dir)"
   ]
  },
  {
   "cell_type": "markdown",
   "metadata": {},
   "source": [
    "##Use the base lattice for the purpose of normalizing coordinates for diagnostics"
   ]
  },
  {
   "cell_type": "code",
   "execution_count": 44,
   "metadata": {
    "collapsed": true
   },
   "outputs": [],
   "source": [
    "full_lattice = synergia.lattice.MadX_reader().get_lattice(\"iota\", \"/Users/ncook/Synergia_Tests/lattices/Iota6-6/lattice_1IO.madx\")\n",
    "\n",
    "#nsteps_per_element = 10\n",
    "nsteps = len(lattice.get_elements())*nsteps_per_element\n",
    "map_order = 1\n",
    "full_stepper = synergia.simulation.Independent_stepper_elements(full_lattice, map_order, nsteps_per_element)\n",
    "full_lattice_simulator = full_stepper.get_lattice_simulator()"
   ]
  },
  {
   "cell_type": "markdown",
   "metadata": {},
   "source": [
    "I have already pre-calculated the offset, but I will update this code in the future to allow for variable offset configurations."
   ]
  },
  {
   "cell_type": "code",
   "execution_count": 48,
   "metadata": {
    "collapsed": false
   },
   "outputs": [
    {
     "name": "stdout",
     "output_type": "stream",
     "text": [
      "4.911519143\n"
     ]
    }
   ],
   "source": [
    "def find_offset(lattice):\n",
    "    '''Find the position of the leading edge of the first nonlinear element '''\n",
    "    for elem in full_lattice.get_elements():\n",
    "        if elem.get_name() == 'nlr1':\n",
    "            #print elem.get_double_attributes()\n",
    "            offset = elem.get_double_attribute('at')\n",
    "    return offset\n",
    "offset = find_offset(full_lattice)\n",
    "print offset"
   ]
  },
  {
   "cell_type": "markdown",
   "metadata": {},
   "source": [
    "##Plot the invariants"
   ]
  },
  {
   "cell_type": "code",
   "execution_count": 50,
   "metadata": {
    "collapsed": false
   },
   "outputs": [
    {
     "data": {
      "image/png": "[encoded data removed]",
      "text/plain": [
       "<matplotlib.figure.Figure at 0x1132b3410>"
      ]
     },
     "metadata": {},
     "output_type": "display_data"
    }
   ],
   "source": [
    "#popts.lattice_simulator = stepper.get_lattice_simulator()\n",
    "popts.num = 1\n",
    "popts.variance = 0.1\n",
    "popts.save = True\n",
    "singleparticle.plot_elliptic_Invariant(popts)\n",
    "#singleparticle.plot_H_I(popts)"
   ]
  },
  {
   "cell_type": "code",
   "execution_count": 51,
   "metadata": {
    "collapsed": false
   },
   "outputs": [
    {
     "data": {
      "image/png": "[encoded data removed]",
      "text/plain": [
       "<matplotlib.figure.Figure at 0x113ec7a50>"
      ]
     },
     "metadata": {},
     "output_type": "display_data"
    }
   ],
   "source": [
    "#popts.lattice_simulator = stepper.get_lattice_simulator()\n",
    "popts.num = 2\n",
    "popts.variance = 0.1\n",
    "popts.save = True\n",
    "singleparticle.plot_elliptic_Invariant(popts)"
   ]
  },
  {
   "cell_type": "markdown",
   "metadata": {},
   "source": [
    "Some quick number-crunching."
   ]
  },
  {
   "cell_type": "code",
   "execution_count": 53,
   "metadata": {
    "collapsed": false
   },
   "outputs": [
    {
     "name": "stdout",
     "output_type": "stream",
     "text": [
      "H -  Mean: 1.5236761063 [mm-mrad] std (%): 0.490529729014\n",
      "H -  Mean: 0.000297630917509 [mm-mrad] std (%): 0.674060965109\n"
     ]
    }
   ],
   "source": [
    "hArray = singleparticle.calc_elliptic_Invariant(popts)\n",
    "singleparticle.stats_Invariant(hArray)"
   ]
  },
  {
   "cell_type": "markdown",
   "metadata": {},
   "source": [
    "####Plot some Poincare sections"
   ]
  },
  {
   "cell_type": "code",
   "execution_count": 55,
   "metadata": {
    "collapsed": false
   },
   "outputs": [
    {
     "data": {
      "image/png": "[encoded data removed]",
      "text/plain": [
       "<matplotlib.figure.Figure at 0x113a310d0>"
      ]
     },
     "metadata": {},
     "output_type": "display_data"
    }
   ],
   "source": [
    "from base_diagnostics import options\n",
    "from base_diagnostics import singleparticle\n",
    "\n",
    "popts = options.Options()\n",
    "popts.lattice_name = '1IO-End-Turn-Action'\n",
    "popts.ID = None\n",
    "popts.path = None\n",
    "popts.turns = 100 \n",
    "popts.norm = False\n",
    "popts.save = True\n",
    "popts.variance = 0.5\n",
    "popts.lattice_simulator = full_lattice_simulator\n",
    "popts.relpath = opts.output_dir\n",
    "popts.lf_fns = ['beta_x','beta_y']\n",
    "popts.lattice = full_lattice\n",
    "\n",
    "popts.plots = ['x','px']\n",
    "popts.num = 1\n",
    "popts.scale = 2\n",
    "popts.plot_lost = False\n",
    "\n",
    "singleparticle.plot_Poincare(popts)"
   ]
  },
  {
   "cell_type": "code",
   "execution_count": 54,
   "metadata": {
    "collapsed": false
   },
   "outputs": [
    {
     "data": {
      "image/png": "[encoded data removed]",
      "text/plain": [
       "<matplotlib.figure.Figure at 0x113a3ecd0>"
      ]
     },
     "metadata": {},
     "output_type": "display_data"
    }
   ],
   "source": [
    "from base_diagnostics import options\n",
    "from base_diagnostics import singleparticle\n",
    "\n",
    "popts = options.Options()\n",
    "popts.lattice_name = '1IO-End-Turn-Action'\n",
    "popts.ID = None\n",
    "popts.path = None\n",
    "popts.turns = 100 \n",
    "popts.norm = False\n",
    "popts.save = True\n",
    "popts.variance = 0.5\n",
    "popts.lattice_simulator = full_lattice_simulator\n",
    "popts.relpath = opts.output_dir\n",
    "popts.lf_fns = ['beta_x','beta_y']\n",
    "popts.lattice = lattice\n",
    "\n",
    "popts.plots = ['y','py']\n",
    "popts.num = 1\n",
    "popts.scale = 2\n",
    "popts.plot_lost = False\n",
    "\n",
    "singleparticle.plot_Poincare(popts)"
   ]
  },
  {
   "cell_type": "code",
   "execution_count": 56,
   "metadata": {
    "collapsed": false
   },
   "outputs": [
    {
     "data": {
      "image/png": "[encoded data removed]",
      "text/plain": [
       "<matplotlib.figure.Figure at 0x10ca79650>"
      ]
     },
     "metadata": {},
     "output_type": "display_data"
    }
   ],
   "source": [
    "from base_diagnostics import options\n",
    "from base_diagnostics import singleparticle\n",
    "\n",
    "popts = options.Options()\n",
    "popts.lattice_name = '1IO-End-Turn-Action'\n",
    "popts.ID = None\n",
    "popts.path = None\n",
    "popts.turns = 100 \n",
    "popts.norm = False\n",
    "popts.save = True\n",
    "popts.variance = 0.5\n",
    "popts.lattice_simulator = full_lattice_simulator\n",
    "popts.relpath = opts.output_dir\n",
    "popts.lf_fns = ['beta_x','beta_y']\n",
    "popts.lattice = lattice\n",
    "\n",
    "popts.plots = ['x','y']\n",
    "popts.num = 1\n",
    "popts.scale = 2\n",
    "popts.plot_lost = False\n",
    "\n",
    "singleparticle.plot_Poincare(popts)"
   ]
  },
  {
   "cell_type": "code",
   "execution_count": null,
   "metadata": {
    "collapsed": true
   },
   "outputs": [],
   "source": []
  }
 ],
 "metadata": {
  "kernelspec": {
   "display_name": "Python 2",
   "language": "python",
   "name": "python2"
  },
  "language_info": {
   "codemirror_mode": {
    "name": "ipython",
    "version": 2
   },
   "file_extension": ".py",
   "mimetype": "text/x-python",
   "name": "python",
   "nbconvert_exporter": "python",
   "pygments_lexer": "ipython2",
   "version": "2.7.10"
  }
 },
 "nbformat": 4,
 "nbformat_minor": 0
}
