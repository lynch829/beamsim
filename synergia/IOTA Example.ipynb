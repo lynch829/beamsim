{
 "cells": [
  {
   "cell_type": "markdown",
   "metadata": {},
   "source": [
    "#An example notebook showcasing Synergia simulations with IOTA\n",
    "\n",
    "This notebook showcases some of the basic functionality provided by the IPython notebook environment for running simulations with Synergia. We make use of basic Synergia functions as well as our own scripts. This notebook, the associated scripts, and a host of other resources can be found at RadiaSoft's [Beamsim](https://github.com/radiasoft/beamsim) github repository: https://github.com/radiasoft/beamsim.\n",
    "\n",
    "**Basic Simulation Parameters**\n",
    "\n",
    "- IOTA v6.6 lattice with 1 integrable optics section\n",
    "- Sextupole strengths set to zero\n",
    "- Nonlinear element adapted from MADX script - comprised of 20 discrete multipoles\n",
    "- Full CHEF propagation - symplectic single particle tracking including nonlinear effects\n",
    "- Each element in the lattice is sliced into 5 segments for computing dynamics.\n",
    "\n",
    "**Basic Beam Parameters**\n",
    "\n",
    "- 2.5 MeV proton beam\n",
    "- No space charge or collective effects considered\n",
    "- Beam is matched to a generalized KV distribution with normalized emittance $\\epsilon_{N,x} = 0.3$ mm-mrad\n"
   ]
  },
  {
   "cell_type": "markdown",
   "metadata": {},
   "source": [
    "##Imports and Setup"
   ]
  },
  {
   "cell_type": "markdown",
   "metadata": {},
   "source": [
    "####IPython magics"
   ]
  },
  {
   "cell_type": "code",
   "execution_count": null,
   "metadata": {
    "collapsed": true
   },
   "outputs": [],
   "source": [
    "%matplotlib inline\n",
    "%load_ext watermark\n",
    "%load_ext autoreload\n",
    "%autoreload 2"
   ]
  },
  {
   "cell_type": "markdown",
   "metadata": {},
   "source": [
    "####Basic Python imports"
   ]
  },
  {
   "cell_type": "code",
   "execution_count": null,
   "metadata": {
    "collapsed": true
   },
   "outputs": [],
   "source": [
    "import sys, os\n",
    "import numpy as np\n",
    "import matplotlib.pyplot as plt\n",
    "import matplotlib as mpl\n",
    "import scipy\n",
    "import tables\n",
    "from mpi4py import MPI"
   ]
  },
  {
   "cell_type": "markdown",
   "metadata": {},
   "source": [
    "####Synergia specific imports"
   ]
  },
  {
   "cell_type": "code",
   "execution_count": null,
   "metadata": {
    "collapsed": true
   },
   "outputs": [],
   "source": [
    "from base_diagnostics import read_bunch\n",
    "from base_diagnostics import workflow\n",
    "from base_diagnostics import lfplot\n",
    "from base_diagnostics import latticework\n",
    "from base_diagnostics import basic_calcs\n",
    "from base_diagnostics import pltbunch\n",
    "from base_diagnostics import elliptic_sp\n",
    "from base_diagnostics import singleparticle\n",
    "from base_diagnostics import options\n",
    "from base_diagnostics import diagplot2\n",
    "from elliptic import EllipticBeam6D\n",
    "import synergia\n",
    "import synergia_workflow"
   ]
  },
  {
   "cell_type": "markdown",
   "metadata": {},
   "source": [
    "##Lattice imports from MADX files and visualization\n",
    "\n",
    "Synergia supports lattice imports from MADX files, and can replicate a variety of magnetic elements, including the unique nonlinear elliptic magnets designed for the IOTA lattice."
   ]
  },
  {
   "cell_type": "code",
   "execution_count": null,
   "metadata": {
    "collapsed": false
   },
   "outputs": [],
   "source": [
    "#dictionary of lattices\n",
    "lattices = {}\n",
    "lattice_dir = 'lattices/Iota6-6/'\n",
    "\n",
    "lattices['t1_1IO'] = '{}lattice_1IO.madx'.format(lattice_dir)\n",
    "lattices['t1_2IO'] = '{}lattice_2IO.madx'.format(lattice_dir)\n",
    "lattices['t2_1pair_min'] = '{}Chromaticity_Corrected/lattice_2IO_1s_approx.madx'.format(lattice_dir)\n",
    "lattices['t2_2pair_min'] = '{}Chromaticity_Corrected/lattice_2IO_2s_min.madx'.format(lattice_dir)\n",
    "lattices['t3_1pair_min_NLL'] = '{}Chromaticity_Corrected/lattice_2IO_1s_approx_NLL.madx'.format(lattice_dir)\n",
    "lattices['t3_1IO_NLL'] = '{}lattice_1IO_nll_center.madx'.format(lattice_dir)\n",
    "lattices['t3_2IO_NLL'] = '{}lattice_2IO_nll_center.madx'.format(lattice_dir)\n",
    "\n",
    "\n",
    "name = 't3_1IO_NLL'\n",
    "\n",
    "lattice = synergia.lattice.MadX_reader().get_lattice(\"iota\", lattices[name])\n",
    "\n",
    "\n",
    "for elem in lattice.get_elements():\n",
    "    if elem.get_type() == 'nllens':\n",
    "        elem.set_string_attribute(\"extractor_type\", \"chef_propagate\")\n",
    "        \n",
    "nsteps_per_element = 5\n",
    "nsteps = len(lattice.get_elements())*nsteps_per_element\n",
    "        \n",
    "order = 1\n",
    "outputdir = 'example_run'\n",
    "\n",
    "opts = workflow.make_opts(name, order, outputdir, nsteps, nsteps_per_element)\n",
    "opts.macro_particles=10000\n",
    "#opts.emitx = 1.0e-5\n",
    "workflow.make_path(outputdir)\n",
    "\n",
    "stepper = synergia.simulation.Independent_stepper_elements(lattice, opts.map_order, opts.steps_per_element)\n",
    "lattice_simulator = stepper.get_lattice_simulator()\n",
    "\n",
    "#construct bare lattice for comparison\n",
    "bare_lattice = synergia.lattice.MadX_reader().get_lattice(\"iota\", lattices['t1_1IO'])\n",
    "bare_stepper = synergia.simulation.Independent_stepper_elements(bare_lattice, opts.map_order, opts.steps_per_element)\n",
    "bare_lattice_simulator = bare_stepper.get_lattice_simulator()"
   ]
  },
  {
   "cell_type": "markdown",
   "metadata": {},
   "source": [
    "###Plot the bare lattice functions\n",
    "\n",
    "The Tier 1 (bare) IOTA lattice is completely symmetric, with equal tunes in x and y. The drift regions designed to accomodate the nonlinear element feature zero dispersion and a fixed \"tune\" advance of $\\mu_x = \\mu_y = 0.3 $."
   ]
  },
  {
   "cell_type": "code",
   "execution_count": null,
   "metadata": {
    "collapsed": false
   },
   "outputs": [],
   "source": [
    "opts.lattice_name = 'Bare IOTA 6-6 Lattice with 1IO'\n",
    "opts.ID = None\n",
    "opts.path = None\n",
    "opts.turns = opts.turns \n",
    "opts.variance = 0.5\n",
    "opts.lattice_simulator = bare_lattice_simulator\n",
    "opts.relpath = opts.output_dir\n",
    "opts.lf_fns = ['beta_x','beta_y','D_x']\n",
    "opts.lattice = bare_lattice\n",
    "opts.save = False\n",
    "opts.scale = 2\n",
    "\n",
    "lfplot.plot_sliced_lattice_functions(opts)"
   ]
  },
  {
   "cell_type": "markdown",
   "metadata": {},
   "source": [
    "###Plot the lattice functions with the NL element included\n",
    "\n",
    "Inclusion of the nonlinear element breaks the symmetry of the lattice, adjusting the lattice tunes but maintaining individual symmetry in x and y through the nonlinear element, along with the zero dispersion requirement."
   ]
  },
  {
   "cell_type": "code",
   "execution_count": null,
   "metadata": {
    "collapsed": false
   },
   "outputs": [],
   "source": [
    "opts.lattice_name = 'IOTA 6-6 Lattice with 1IO and NL Element'\n",
    "opts.ID = None\n",
    "opts.path = None\n",
    "opts.turns = opts.turns \n",
    "opts.variance = 0.5\n",
    "opts.lattice_simulator = lattice_simulator\n",
    "opts.relpath = opts.output_dir\n",
    "opts.lf_fns = ['beta_x','beta_y','D_x']\n",
    "opts.lattice = lattice\n",
    "opts.save = False\n",
    "opts.scale = 2\n",
    "\n",
    "lfplot.plot_sliced_lattice_functions(opts)"
   ]
  },
  {
   "cell_type": "markdown",
   "metadata": {},
   "source": [
    "##Generate a matched bunch for the IOTA lattice\n",
    "\n",
    "Synergia includes functions for generating matched bunches with Gaussian or K-V distributions for a given linear lattice."
   ]
  },
  {
   "cell_type": "markdown",
   "metadata": {},
   "source": [
    "####Gaussian Bunch matched to the bare lattice"
   ]
  },
  {
   "cell_type": "code",
   "execution_count": null,
   "metadata": {
    "collapsed": false
   },
   "outputs": [],
   "source": [
    "#get refence particle to find beta, gamma values\n",
    "ref = lattice.get_reference_particle()\n",
    "beta = ref.get_beta()\n",
    "gamma = ref.get_gamma()\n",
    "\n",
    "#We want the normalized emittance in x to be 0.3 mm-mrad\n",
    "opts.norm_emittance = 0.3*1.e-6\n",
    "opts.emitx = basic_calcs.get_geometric_emittance(opts.norm_emittance, beta, gamma)\n",
    "opts.emity = opts.emitx\n",
    "\n",
    "#Construct a matched bunch\n",
    "myBunch = synergia.optics.generate_matched_bunch_transverse(\n",
    "    bare_lattice_simulator, opts.emitx, opts.emity, opts.stdz, \n",
    "    opts.dpop, opts.real_particles, \n",
    "    opts.macro_particles, opts.seed) \n",
    "\n",
    "pltbunch.plot_bunch(myBunch)"
   ]
  },
  {
   "cell_type": "markdown",
   "metadata": {},
   "source": [
    "####Generalized KV distribution matched to the IOTA lattice at the center of the NL element"
   ]
  },
  {
   "cell_type": "markdown",
   "metadata": {},
   "source": [
    "For the nonlinear IOTA ring, a more complex matching is required. Stephen Webb has devised a matching procedure which cosntructs a generalized K-V distribution, with a fixed value of the 1st invariant, $H_0$. To produce the same normalized emittance of $\\epsilon_{N,x} =0.3$ mm-mrad for the injected proton beam, we construct a bunch with fixed $H_0 = 9.74$ mm-mrad."
   ]
  },
  {
   "cell_type": "code",
   "execution_count": null,
   "metadata": {
    "collapsed": false
   },
   "outputs": [],
   "source": [
    "tval = 0.4 #elliptic strength parameter\n",
    "cval = 0.01 #aperture parameter\n",
    "\n",
    "opts.t = tval\n",
    "opts.c = cval\n",
    "opts.new_tune = 0.3\n",
    "opts.lnll = 1.8\n",
    "opts.nseg = 20\n",
    "vals = basic_calcs.get_base_nll(opts.nseg, opts.lnll, opts.new_tune, opts.t, opts.c)\n",
    "\n",
    "#specify vals for center of the section\n",
    "opts.betae = vals[3]\n",
    "opts.alphae = 0 #fixed 0 alpha for center\n",
    "opts.beta0 = vals[3]\n",
    "\n",
    "opts.emits = [9.74e-6]\n",
    "opts.lattice = lattice"
   ]
  },
  {
   "cell_type": "code",
   "execution_count": null,
   "metadata": {
    "collapsed": false
   },
   "outputs": [],
   "source": [
    "particles = EllipticBeam6D.toyEllipticalBeam6D(opts)\n",
    "\n",
    "for index in range(len(opts.emits)):\n",
    "    bunch = particles[index]\n",
    "    initialH,initialI = elliptic_sp.calc_bunch_H(bunch,opts)\n",
    "    bunch_mean = np.mean(initialH)\n",
    "    bunch_std = np.std(initialH)\n",
    "    bunch_var = (bunch_std/bunch_mean)*100\n",
    "    print \"Constructed bunch with {} macroparticles, having mean H: {} and std: {}%\".format(opts.macro_particles, bunch_mean,bunch_var)\n",
    "    #now add longitudinal momentum variation\n",
    "    #For random samples with mean = 0, sigma = sigma, use sigma*np.random.randn(...)\n",
    "    bunch[:,5] = opts.dpop*np.random.randn(1,len(bunch))\n",
    "    #bunch[:,5] = np.zeros(len(bunch)) #0 dpop\n",
    "\n",
    "opts.num_total_particles = opts.macro_particles*len(opts.emits)\n",
    "opts.tracked_particles = opts.num_total_particles\n",
    "\n",
    "particles_file = '{}/myBunch.txt'.format(opts.output_dir)\n",
    "\n",
    "np.savetxt(particles_file,bunch)         #write the bunch to a text file\n",
    "bucket_length = beta*lattice.get_length()/4 #RF harmonic number is 4\n",
    "\n",
    "comm = synergia.utils.Commxx(True) #define a communicator\n",
    "myBunch = read_bunch.read_bunch(particles_file, ref, opts.real_particles, bucket_length, comm)\n",
    "\n",
    "pltbunch.plot_bunch(myBunch)"
   ]
  },
  {
   "cell_type": "markdown",
   "metadata": {},
   "source": [
    "##Perform a basic simulation\n",
    "\n",
    "We will run our matched beam through the nonlinear lattice for 100 turns, outputing individual particle coordinates (`Diagnostics_particles`) each turn and basic RMS bunch properties (`Diagnostics_basic`) each step (slice) of the simulation."
   ]
  },
  {
   "cell_type": "code",
   "execution_count": null,
   "metadata": {
    "collapsed": false
   },
   "outputs": [],
   "source": [
    "#Construct the bunch simulator\n",
    "bunch_simulator = synergia.simulation.Bunch_simulator(myBunch)\n",
    "\n",
    "#basic diagnostics - PER STEP\n",
    "basicdiag = synergia.bunch.Diagnostics_basic(\"basic.h5\", opts.output_dir)\n",
    "bunch_simulator.add_per_step(basicdiag)\n",
    "print \"Saving basic diagnostics each step\"\n",
    "\n",
    "#include full diagnostics\n",
    "fulldiag = synergia.bunch.Diagnostics_full2(\"full.h5\", opts.output_dir)\n",
    "bunch_simulator.add_per_turn(fulldiag)\n",
    "print \"Saving full2 diagnostics each turn\"\n",
    "\n",
    "#particle diagnostics - PER TURN\n",
    "opts.turnsPerDiag = 1\n",
    "particlediag = synergia.bunch.Diagnostics_particles(\"particles.h5\",0,0,opts.output_dir)\n",
    "bunch_simulator.add_per_turn(particlediag, opts.turnsPerDiag)\n",
    "print \"Saving turn-by-turn particle data every {} turns\".format(opts.turnsPerDiag)\n",
    "\n",
    "opts.turns = 100\n",
    "opts.checkpointperiod = 10\n",
    "opts.maxturns = opts.turns+1\n",
    "\n",
    "myrank = comm.get_rank()\n",
    "print \"setting up propagator for rank {}\".format(myrank)\n",
    "propagator = synergia.simulation.Propagator(stepper)\n",
    "propagator.set_checkpoint_period(opts.checkpointperiod)\n",
    "\n",
    "print \"starting simulation for rank {}\".format(myrank)\n",
    "propagator.propagate(bunch_simulator,opts.turns, opts.maxturns,opts.verbosity)\n",
    "\n",
    "#clean up files\n",
    "workflow.cleanup(opts.output_dir)"
   ]
  },
  {
   "cell_type": "markdown",
   "metadata": {},
   "source": [
    "##Basic Diagnostics\n",
    "\n",
    "RMS beam properties are easily reconstructed from the basic diagnostics. Below, RMS bunch size in x and y, respectively, are overlayed for turn 1 and for turn 100."
   ]
  },
  {
   "cell_type": "code",
   "execution_count": null,
   "metadata": {
    "collapsed": false
   },
   "outputs": [],
   "source": [
    "from base_diagnostics import diagplot2\n",
    "\n",
    "opts.inputfile = opts.output_dir + '/basic.h5'\n",
    "opts.plots = ['x_std', 'y_std']\n",
    "plotVals = diagplot2.getPlotVals(opts.inputfile, opts.plots)\n",
    "\n",
    "#define specific value arrays\n",
    "xmaster = plotVals['s']\n",
    "xstd = plotVals['x_std']\n",
    "ystd = plotVals['y_std']\n",
    "\n",
    "#we want to plot turn 0 and turn 100 on the same plot, so we should separate these specifically\n",
    "interval = len(stepper.get_steps())\n",
    "xstd_0 = xstd[:interval]\n",
    "xstd_2 = xstd[1*interval:2*interval]\n",
    "xstd_100 = xstd[-1*interval:] \n",
    "\n",
    "ystd_0 = ystd[:interval]\n",
    "ystd_100 = ystd[-1*interval:] \n",
    "\n",
    "#We can use the same s value for each plot\n",
    "sval_0 = xmaster[:interval]\n",
    "\n",
    "fig = plt.figure(figsize=(8,6))\n",
    "ax = plt.gca()\n",
    "ax.plot(sval_0,xstd_0*1.e3,'b-',alpha=0.7, label='Turn 1') #plot the 1st turn\n",
    "ax.plot(sval_0,xstd_100*1.e3,'g-',alpha=0.7, label='Turn 100') #plot the 1st turn\n",
    "axtitle = \"Beam envelope evolution - $\\sigma_x$ over 100 turns\"\n",
    "ax.set_title(axtitle, y = 1.02, fontsize = 18)  \n",
    "ax.set_xlabel(\"s [m]\",fontsize=14)\n",
    "ax.set_ylabel(\"rms beam size $\\sigma_x$ [mm]\",fontsize=14)\n",
    "ax.tick_params(axis='x', labelsize=14)\n",
    "ax.tick_params(axis='y', labelsize=14)\n",
    "ax.set_xlim([0,lattice.get_length()])\n",
    "ax.legend()\n",
    "sv_title = '{}/RMS_x_1_100.pdf'.format(opts.output_dir)\n",
    "fig.tight_layout()\n",
    "fig.savefig(sv_title,bbox_inches='tight')"
   ]
  },
  {
   "cell_type": "markdown",
   "metadata": {},
   "source": [
    "##Particle Diagnostics\n",
    "\n",
    "Individual particles may be tracked, or alternatively their coordinates at specified positions in the ring may be dumped. Below, Poincare surfaces of sections are displayed for a handful of particles, illustration their motion in normalized coordinates."
   ]
  },
  {
   "cell_type": "code",
   "execution_count": null,
   "metadata": {
    "collapsed": false
   },
   "outputs": [],
   "source": [
    "opts.lost = None\n",
    "opts.plots = ['x','px']\n",
    "opts.relpath = opts.output_dir\n",
    "#opts.num = 100\n",
    "opts.hcoord = opts.plots[0]\n",
    "opts.vcoord = opts.plots[1]\n",
    "opts.lattice_name = name\n",
    "opts.scale = 2\n",
    "opts.lattice = lattice\n",
    "opts.save = True\n",
    "opts.num = 10\n",
    "opts.plot_lost = False\n",
    "elliptic_sp.toy_plot_Poincare(opts)"
   ]
  },
  {
   "cell_type": "code",
   "execution_count": null,
   "metadata": {
    "collapsed": false
   },
   "outputs": [],
   "source": [
    "opts.lost = None\n",
    "opts.plots = ['y','py']\n",
    "opts.relpath = opts.output_dir\n",
    "#opts.num = 100\n",
    "opts.hcoord = opts.plots[0]\n",
    "opts.vcoord = opts.plots[1]\n",
    "opts.lattice_name = name\n",
    "opts.scale = 2\n",
    "opts.lattice = lattice\n",
    "opts.save = True\n",
    "opts.num = 10\n",
    "opts.plot_lost = False\n",
    "elliptic_sp.toy_plot_Poincare(opts)"
   ]
  },
  {
   "cell_type": "code",
   "execution_count": null,
   "metadata": {
    "collapsed": false
   },
   "outputs": [],
   "source": [
    "opts.lost = None\n",
    "opts.plots = ['x','y']\n",
    "opts.relpath = opts.output_dir\n",
    "#opts.num = 100\n",
    "opts.hcoord = opts.plots[0]\n",
    "opts.vcoord = opts.plots[1]\n",
    "opts.lattice_name = name\n",
    "opts.scale = 2\n",
    "opts.lattice = lattice\n",
    "opts.save = True\n",
    "opts.num = 50\n",
    "opts.plot_lost = False\n",
    "elliptic_sp.toy_plot_Poincare(opts)"
   ]
  },
  {
   "cell_type": "markdown",
   "metadata": {},
   "source": [
    "##Bunch evolution\n",
    "\n",
    "We can similarly plot the bunch at a given turn to look for instances of nonlinear effects driving particles to large amplitude."
   ]
  },
  {
   "cell_type": "code",
   "execution_count": null,
   "metadata": {
    "collapsed": false
   },
   "outputs": [],
   "source": [
    "from matplotlib import gridspec\n",
    "\n",
    "#Load particles\n",
    "opts.relpath = opts.output_dir\n",
    "turnnums = ['00','100']\n",
    "filelist = [\"particles_00{}.h5\".format(val) for val in turnnums]\n",
    "filelist[-1] = \"particles_0100.h5\" #force this one\n",
    "path = os.path.join(os.getcwd(),opts.relpath)\n",
    "pathlist = [os.path.join(path,fn) for fn in filelist]  #construct path list for files\n",
    "\n",
    "#opts.relpath = opts.output_dir\n",
    "#files = elliptic_sp.get_file_list(opts)\n",
    "twiss = elliptic_sp.get_toy_twiss(opts)\n",
    "#t2 = twiss[:-1,:]\n",
    "#twiss = get_twiss(opts.lattice_simulator)\n",
    "#lost = elliptic_sp.get_lost_particle_list(opts)\n",
    "\n",
    "#hArray = []\n",
    "#iArray = []\n",
    "log = []    #log is an array for storing output text\n",
    "part_array = []\n",
    "\n",
    "for index,outfile in enumerate(pathlist):\n",
    "    #print \"Grabbing coordinates for file {}\".format(index)\n",
    "    \n",
    "    header,particle_vals = elliptic_sp.get_particles(outfile)\n",
    "    \n",
    "    if index == 0:\n",
    "        part_array = particle_vals\n",
    "    else:\n",
    "        part_array = np.vstack([part_array,particle_vals])\n",
    "        \n",
    "parts_0 = part_array[:10000]\n",
    "parts_100 = part_array[10000:20000]\n",
    "\n",
    "\n",
    "#Construct coordinates\n",
    "header= {}\n",
    "header['s_val'] = 0.\n",
    "norm_coords0 = elliptic_sp.normalized_coordinates(header, parts_0, twiss)\n",
    "x_c0 = norm_coords0[:,0]\n",
    "px_c0 = norm_coords0[:,1]\n",
    "y_c0 = norm_coords0[:,2]\n",
    "py_c0 = norm_coords0[:,3]\n",
    "\n",
    "\n",
    "header= {}\n",
    "header['s_val'] = 0.\n",
    "norm_coords100 = elliptic_sp.normalized_coordinates(header, parts_100, twiss)\n",
    "x_c100 = norm_coords100[:,0]\n",
    "px_c100 = norm_coords100[:,1]\n",
    "y_c100 = norm_coords100[:,2]\n",
    "py_c100 = norm_coords100[:,3]\n",
    "\n",
    "\n",
    "#Make the plot\n",
    "fig = plt.figure(figsize=(12,6))\n",
    "gs = gridspec.GridSpec(1, 2, width_ratios=[1,1]) \n",
    "\n",
    "ax0 = plt.subplot(gs[0])\n",
    "ax0.scatter(1000*x_c0,1000*y_c0, s=4, c='k')\n",
    "ax0.set_title('Proton beam at turn 0', y = 1.02, fontsize = 18)  \n",
    "ax0.set_xlabel(\"x [mm]\",fontsize=14)\n",
    "ax0.set_ylabel(\"y [mm]\",fontsize=14)\n",
    "ax0.tick_params(axis='x', labelsize=14)\n",
    "ax0.tick_params(axis='y', labelsize=14)\n",
    "ax0.set_xlim([-10,10])\n",
    "ax0.set_ylim([-10,10])\n",
    "\n",
    "ax1 = plt.subplot(gs[1])\n",
    "ax1.scatter(1000*x_c100,1000*y_c100, s=4, c='k')\n",
    "ax1.set_title('Proton beam at turn 100', y = 1.02, fontsize = 18)  \n",
    "ax1.set_xlabel(\"x [mm]\",fontsize=14)\n",
    "ax1.set_ylabel(\"y [mm]\",fontsize=14)\n",
    "ax1.tick_params(axis='x', labelsize=14)\n",
    "ax1.tick_params(axis='y', labelsize=14)\n",
    "ax1.set_xlim([-10,10])\n",
    "ax1.set_ylim([-10,10])\n",
    "\n",
    "sv_title = '{}/beam_0_100.pdf'.format(opts.output_dir)\n",
    "fig.tight_layout()\n",
    "fig.savefig(sv_title,bbox_inches='tight')\n",
    "fig.show()"
   ]
  },
  {
   "cell_type": "code",
   "execution_count": null,
   "metadata": {
    "collapsed": true
   },
   "outputs": [],
   "source": []
  }
 ],
 "metadata": {
  "kernelspec": {
   "display_name": "Python 2",
   "language": "python",
   "name": "python2"
  },
  "language_info": {
   "codemirror_mode": {
    "name": "ipython",
    "version": 2
   },
   "file_extension": ".py",
   "mimetype": "text/x-python",
   "name": "python",
   "nbconvert_exporter": "python",
   "pygments_lexer": "ipython2",
   "version": "2.7.10"
  }
 },
 "nbformat": 4,
 "nbformat_minor": 0
}
